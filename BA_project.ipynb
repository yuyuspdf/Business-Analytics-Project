{
  "nbformat": 4,
  "nbformat_minor": 0,
  "metadata": {
    "colab": {
      "name": "BA project.ipynb",
      "provenance": [],
      "collapsed_sections": []
    },
    "kernelspec": {
      "name": "python3",
      "display_name": "Python 3"
    }
  },
  "cells": [
    {
      "cell_type": "markdown",
      "metadata": {
        "id": "T4YFCS4gTw9w",
        "colab_type": "text"
      },
      "source": [
        "# **Final Project Code**\n",
        "\n"
      ]
    },
    {
      "cell_type": "markdown",
      "metadata": {
        "id": "2Y3AM2gcTBFp",
        "colab_type": "text"
      },
      "source": [
        "## **Initiation**\n",
        "\n",
        "Install PyDrive and import related packages"
      ]
    },
    {
      "cell_type": "code",
      "metadata": {
        "id": "P9mq4J6cOov6",
        "colab_type": "code",
        "colab": {}
      },
      "source": [
        "#Please run this first\n",
        "!pip install -U -q PyDrive\n",
        "from pydrive.auth import GoogleAuth\n",
        "from pydrive.drive import GoogleDrive\n",
        "from google.colab import auth\n",
        "from oauth2client.client import GoogleCredentials\n",
        "\n",
        "# Authenticate and create the PyDrive client.\n",
        "auth.authenticate_user()\n",
        "gauth = GoogleAuth()\n",
        "gauth.credentials = GoogleCredentials.get_application_default()\n",
        "drive = GoogleDrive(gauth)\n",
        "#import modules\n",
        "\n",
        "import numpy as np\n",
        "import pandas as pd\n",
        "# from statsmodels.formula.api import ols\n",
        "from statsmodels.formula.api import logit\n",
        "import matplotlib.pyplot as plt\n",
        "import sklearn \n",
        "import scipy.special as spsp\n",
        "from scipy.optimize import minimize\n",
        "import scipy.stats as spst\n",
        "from sklearn.utils import shuffle"
      ],
      "execution_count": 0,
      "outputs": []
    },
    {
      "cell_type": "markdown",
      "metadata": {
        "id": "iEBp7Ih8T6rn",
        "colab_type": "text"
      },
      "source": [
        "## **Data Loading**\n",
        "\n",
        "Load three datasets"
      ]
    },
    {
      "cell_type": "markdown",
      "metadata": {
        "id": "ev-6TbuWUuOy",
        "colab_type": "text"
      },
      "source": [
        "- Email<br>Include the email sending information of each customer in the email list."
      ]
    },
    {
      "cell_type": "code",
      "metadata": {
        "id": "-t1GgO-PRWDn",
        "colab_type": "code",
        "outputId": "f2d2489f-9f14-477a-96a1-2301bf1da0ab",
        "colab": {
          "base_uri": "https://localhost:8080/",
          "height": 195
        }
      },
      "source": [
        "link=\"https://drive.google.com/open?id=1nUDYawHbpUHhrEX3dVjZk4K5pU5blXDH\"\n",
        "_,id=link.split(\"=\")\n",
        "downloaded = drive.CreateFile({'id':id}) \n",
        "downloaded.GetContentFile('online_shoppers_intention.csv')\n",
        "Email = pd.read_csv('email.csv')\n",
        "Email.head()"
      ],
      "execution_count": 0,
      "outputs": [
        {
          "output_type": "execute_result",
          "data": {
            "text/html": [
              "<div>\n",
              "<style scoped>\n",
              "    .dataframe tbody tr th:only-of-type {\n",
              "        vertical-align: middle;\n",
              "    }\n",
              "\n",
              "    .dataframe tbody tr th {\n",
              "        vertical-align: top;\n",
              "    }\n",
              "\n",
              "    .dataframe thead th {\n",
              "        text-align: right;\n",
              "    }\n",
              "</style>\n",
              "<table border=\"1\" class=\"dataframe\">\n",
              "  <thead>\n",
              "    <tr style=\"text-align: right;\">\n",
              "      <th></th>\n",
              "      <th>email_id</th>\n",
              "      <th>email_text</th>\n",
              "      <th>email_version</th>\n",
              "      <th>hour</th>\n",
              "      <th>weekday</th>\n",
              "      <th>user_country</th>\n",
              "      <th>user_past_purchases</th>\n",
              "    </tr>\n",
              "  </thead>\n",
              "  <tbody>\n",
              "    <tr>\n",
              "      <th>0</th>\n",
              "      <td>85120</td>\n",
              "      <td>short_email</td>\n",
              "      <td>personalized</td>\n",
              "      <td>2</td>\n",
              "      <td>Sunday</td>\n",
              "      <td>US</td>\n",
              "      <td>5</td>\n",
              "    </tr>\n",
              "    <tr>\n",
              "      <th>1</th>\n",
              "      <td>966622</td>\n",
              "      <td>long_email</td>\n",
              "      <td>personalized</td>\n",
              "      <td>12</td>\n",
              "      <td>Sunday</td>\n",
              "      <td>UK</td>\n",
              "      <td>2</td>\n",
              "    </tr>\n",
              "    <tr>\n",
              "      <th>2</th>\n",
              "      <td>777221</td>\n",
              "      <td>long_email</td>\n",
              "      <td>personalized</td>\n",
              "      <td>11</td>\n",
              "      <td>Wednesday</td>\n",
              "      <td>US</td>\n",
              "      <td>2</td>\n",
              "    </tr>\n",
              "    <tr>\n",
              "      <th>3</th>\n",
              "      <td>493711</td>\n",
              "      <td>short_email</td>\n",
              "      <td>generic</td>\n",
              "      <td>6</td>\n",
              "      <td>Monday</td>\n",
              "      <td>UK</td>\n",
              "      <td>1</td>\n",
              "    </tr>\n",
              "    <tr>\n",
              "      <th>4</th>\n",
              "      <td>106887</td>\n",
              "      <td>long_email</td>\n",
              "      <td>generic</td>\n",
              "      <td>14</td>\n",
              "      <td>Monday</td>\n",
              "      <td>US</td>\n",
              "      <td>6</td>\n",
              "    </tr>\n",
              "  </tbody>\n",
              "</table>\n",
              "</div>"
            ],
            "text/plain": [
              "   email_id   email_text  ... user_country  user_past_purchases\n",
              "0     85120  short_email  ...           US                    5\n",
              "1    966622   long_email  ...           UK                    2\n",
              "2    777221   long_email  ...           US                    2\n",
              "3    493711  short_email  ...           UK                    1\n",
              "4    106887   long_email  ...           US                    6\n",
              "\n",
              "[5 rows x 7 columns]"
            ]
          },
          "metadata": {
            "tags": []
          },
          "execution_count": 2
        }
      ]
    },
    {
      "cell_type": "markdown",
      "metadata": {
        "id": "wiJ5Q2NAU3ZA",
        "colab_type": "text"
      },
      "source": [
        "- Open<br>\n",
        "Include the `email_id` of the customers who opened the email."
      ]
    },
    {
      "cell_type": "code",
      "metadata": {
        "id": "yFLP5I6qQD-z",
        "colab_type": "code",
        "outputId": "4bb7c530-b5fb-4b97-e6ab-5151e3d4c1b2",
        "colab": {
          "base_uri": "https://localhost:8080/",
          "height": 195
        }
      },
      "source": [
        "link=\"https://drive.google.com/open?id=1psb8T4n1KgjrzzrpIyW50BIa88l6IE9U\"\n",
        "_,id=link.split(\"=\")\n",
        "downloaded = drive.CreateFile({'id':id}) \n",
        "downloaded.GetContentFile('email_opened_table.csv')\n",
        "Open = pd.read_csv('email_opened_table.csv')\n",
        "Open.head()"
      ],
      "execution_count": 0,
      "outputs": [
        {
          "output_type": "execute_result",
          "data": {
            "text/html": [
              "<div>\n",
              "<style scoped>\n",
              "    .dataframe tbody tr th:only-of-type {\n",
              "        vertical-align: middle;\n",
              "    }\n",
              "\n",
              "    .dataframe tbody tr th {\n",
              "        vertical-align: top;\n",
              "    }\n",
              "\n",
              "    .dataframe thead th {\n",
              "        text-align: right;\n",
              "    }\n",
              "</style>\n",
              "<table border=\"1\" class=\"dataframe\">\n",
              "  <thead>\n",
              "    <tr style=\"text-align: right;\">\n",
              "      <th></th>\n",
              "      <th>email_id</th>\n",
              "    </tr>\n",
              "  </thead>\n",
              "  <tbody>\n",
              "    <tr>\n",
              "      <th>0</th>\n",
              "      <td>284534</td>\n",
              "    </tr>\n",
              "    <tr>\n",
              "      <th>1</th>\n",
              "      <td>609056</td>\n",
              "    </tr>\n",
              "    <tr>\n",
              "      <th>2</th>\n",
              "      <td>220820</td>\n",
              "    </tr>\n",
              "    <tr>\n",
              "      <th>3</th>\n",
              "      <td>905936</td>\n",
              "    </tr>\n",
              "    <tr>\n",
              "      <th>4</th>\n",
              "      <td>164034</td>\n",
              "    </tr>\n",
              "  </tbody>\n",
              "</table>\n",
              "</div>"
            ],
            "text/plain": [
              "   email_id\n",
              "0    284534\n",
              "1    609056\n",
              "2    220820\n",
              "3    905936\n",
              "4    164034"
            ]
          },
          "metadata": {
            "tags": []
          },
          "execution_count": 3
        }
      ]
    },
    {
      "cell_type": "markdown",
      "metadata": {
        "id": "0POW1FQgVXet",
        "colab_type": "text"
      },
      "source": [
        "- Link<br>\n",
        "Include the `email_id` of the customers who clicked the link in the email."
      ]
    },
    {
      "cell_type": "code",
      "metadata": {
        "id": "-pcth2thQ9LP",
        "colab_type": "code",
        "outputId": "e483ff7c-c3e5-4315-c1bc-b67f4a1a38f3",
        "colab": {
          "base_uri": "https://localhost:8080/",
          "height": 195
        }
      },
      "source": [
        "link=\"https://drive.google.com/open?id=11tiiBfFAmF516hDFr3tyKsbwkMigsJVv\"\n",
        "_,id=link.split(\"=\")\n",
        "downloaded = drive.CreateFile({'id':id}) \n",
        "downloaded.GetContentFile('link_clicked_table.csv')\n",
        "Link = pd.read_csv('link_clicked_table.csv')\n",
        "Link.head()"
      ],
      "execution_count": 0,
      "outputs": [
        {
          "output_type": "execute_result",
          "data": {
            "text/html": [
              "<div>\n",
              "<style scoped>\n",
              "    .dataframe tbody tr th:only-of-type {\n",
              "        vertical-align: middle;\n",
              "    }\n",
              "\n",
              "    .dataframe tbody tr th {\n",
              "        vertical-align: top;\n",
              "    }\n",
              "\n",
              "    .dataframe thead th {\n",
              "        text-align: right;\n",
              "    }\n",
              "</style>\n",
              "<table border=\"1\" class=\"dataframe\">\n",
              "  <thead>\n",
              "    <tr style=\"text-align: right;\">\n",
              "      <th></th>\n",
              "      <th>email_id</th>\n",
              "    </tr>\n",
              "  </thead>\n",
              "  <tbody>\n",
              "    <tr>\n",
              "      <th>0</th>\n",
              "      <td>609056</td>\n",
              "    </tr>\n",
              "    <tr>\n",
              "      <th>1</th>\n",
              "      <td>870980</td>\n",
              "    </tr>\n",
              "    <tr>\n",
              "      <th>2</th>\n",
              "      <td>935124</td>\n",
              "    </tr>\n",
              "    <tr>\n",
              "      <th>3</th>\n",
              "      <td>158501</td>\n",
              "    </tr>\n",
              "    <tr>\n",
              "      <th>4</th>\n",
              "      <td>177561</td>\n",
              "    </tr>\n",
              "  </tbody>\n",
              "</table>\n",
              "</div>"
            ],
            "text/plain": [
              "   email_id\n",
              "0    609056\n",
              "1    870980\n",
              "2    935124\n",
              "3    158501\n",
              "4    177561"
            ]
          },
          "metadata": {
            "tags": []
          },
          "execution_count": 4
        }
      ]
    },
    {
      "cell_type": "markdown",
      "metadata": {
        "id": "hkyWqmuBVuWO",
        "colab_type": "text"
      },
      "source": [
        "## **Data Cleaning**\n",
        "\n",
        "Merge datasets and delete invalid values"
      ]
    },
    {
      "cell_type": "code",
      "metadata": {
        "id": "pBVD08FgRtbU",
        "colab_type": "code",
        "colab": {}
      },
      "source": [
        "# Add dummy values to the Open & Link datasets\n",
        "Open = Open.assign(Open=1)\n",
        "Link = Link.assign(Link=1)"
      ],
      "execution_count": 0,
      "outputs": []
    },
    {
      "cell_type": "code",
      "metadata": {
        "id": "qVHwl0z45S-B",
        "colab_type": "code",
        "colab": {}
      },
      "source": [
        "# Divided column `hour` into different time slot\n",
        "data = Email.assign(hour_time = pd.cut(Email['hour'], np.arange(0, 25, 6), labels=['night', 'morning', 'afternoon', 'evening']))"
      ],
      "execution_count": 0,
      "outputs": []
    },
    {
      "cell_type": "code",
      "metadata": {
        "id": "UlSaOSOKSGeF",
        "colab_type": "code",
        "colab": {}
      },
      "source": [
        "# Merge three datasets and complement the dummy values\n",
        "data = data.merge(Open, how='left', on='email_id')\n",
        "data = data.merge(Link, how='left', on='email_id')\n",
        "data = data.fillna({\"Open\":0,\"Link\":0})"
      ],
      "execution_count": 0,
      "outputs": []
    },
    {
      "cell_type": "code",
      "metadata": {
        "id": "kcthzcYcWlFT",
        "colab_type": "code",
        "outputId": "ffa7461a-0d9f-40b5-c387-2790fd63a732",
        "colab": {
          "base_uri": "https://localhost:8080/",
          "height": 195
        }
      },
      "source": [
        "# Drop invalid data (didn't open the email but click the link)\n",
        "filter1 = ~ ((data[\"Open\"] == 0) & (data[\"Link\"] == 1))\n",
        "data = data[filter1].dropna()\n",
        "data.head()"
      ],
      "execution_count": 0,
      "outputs": [
        {
          "output_type": "execute_result",
          "data": {
            "text/html": [
              "<div>\n",
              "<style scoped>\n",
              "    .dataframe tbody tr th:only-of-type {\n",
              "        vertical-align: middle;\n",
              "    }\n",
              "\n",
              "    .dataframe tbody tr th {\n",
              "        vertical-align: top;\n",
              "    }\n",
              "\n",
              "    .dataframe thead th {\n",
              "        text-align: right;\n",
              "    }\n",
              "</style>\n",
              "<table border=\"1\" class=\"dataframe\">\n",
              "  <thead>\n",
              "    <tr style=\"text-align: right;\">\n",
              "      <th></th>\n",
              "      <th>email_id</th>\n",
              "      <th>email_text</th>\n",
              "      <th>email_version</th>\n",
              "      <th>hour</th>\n",
              "      <th>weekday</th>\n",
              "      <th>user_country</th>\n",
              "      <th>user_past_purchases</th>\n",
              "      <th>hour_time</th>\n",
              "      <th>Open</th>\n",
              "      <th>Link</th>\n",
              "    </tr>\n",
              "  </thead>\n",
              "  <tbody>\n",
              "    <tr>\n",
              "      <th>0</th>\n",
              "      <td>85120</td>\n",
              "      <td>short_email</td>\n",
              "      <td>personalized</td>\n",
              "      <td>2</td>\n",
              "      <td>Sunday</td>\n",
              "      <td>US</td>\n",
              "      <td>5</td>\n",
              "      <td>night</td>\n",
              "      <td>0.0</td>\n",
              "      <td>0.0</td>\n",
              "    </tr>\n",
              "    <tr>\n",
              "      <th>1</th>\n",
              "      <td>966622</td>\n",
              "      <td>long_email</td>\n",
              "      <td>personalized</td>\n",
              "      <td>12</td>\n",
              "      <td>Sunday</td>\n",
              "      <td>UK</td>\n",
              "      <td>2</td>\n",
              "      <td>morning</td>\n",
              "      <td>1.0</td>\n",
              "      <td>1.0</td>\n",
              "    </tr>\n",
              "    <tr>\n",
              "      <th>2</th>\n",
              "      <td>777221</td>\n",
              "      <td>long_email</td>\n",
              "      <td>personalized</td>\n",
              "      <td>11</td>\n",
              "      <td>Wednesday</td>\n",
              "      <td>US</td>\n",
              "      <td>2</td>\n",
              "      <td>morning</td>\n",
              "      <td>0.0</td>\n",
              "      <td>0.0</td>\n",
              "    </tr>\n",
              "    <tr>\n",
              "      <th>3</th>\n",
              "      <td>493711</td>\n",
              "      <td>short_email</td>\n",
              "      <td>generic</td>\n",
              "      <td>6</td>\n",
              "      <td>Monday</td>\n",
              "      <td>UK</td>\n",
              "      <td>1</td>\n",
              "      <td>night</td>\n",
              "      <td>0.0</td>\n",
              "      <td>0.0</td>\n",
              "    </tr>\n",
              "    <tr>\n",
              "      <th>4</th>\n",
              "      <td>106887</td>\n",
              "      <td>long_email</td>\n",
              "      <td>generic</td>\n",
              "      <td>14</td>\n",
              "      <td>Monday</td>\n",
              "      <td>US</td>\n",
              "      <td>6</td>\n",
              "      <td>afternoon</td>\n",
              "      <td>0.0</td>\n",
              "      <td>0.0</td>\n",
              "    </tr>\n",
              "  </tbody>\n",
              "</table>\n",
              "</div>"
            ],
            "text/plain": [
              "   email_id   email_text email_version  ...  hour_time Open Link\n",
              "0     85120  short_email  personalized  ...      night  0.0  0.0\n",
              "1    966622   long_email  personalized  ...    morning  1.0  1.0\n",
              "2    777221   long_email  personalized  ...    morning  0.0  0.0\n",
              "3    493711  short_email       generic  ...      night  0.0  0.0\n",
              "4    106887   long_email       generic  ...  afternoon  0.0  0.0\n",
              "\n",
              "[5 rows x 10 columns]"
            ]
          },
          "metadata": {
            "tags": []
          },
          "execution_count": 8
        }
      ]
    },
    {
      "cell_type": "code",
      "metadata": {
        "id": "RKUGDy_jZSuq",
        "colab_type": "code",
        "outputId": "0cd934a4-3f1b-4cb7-9712-5268850e74e0",
        "colab": {
          "base_uri": "https://localhost:8080/",
          "height": 202
        }
      },
      "source": [
        "data.dtypes"
      ],
      "execution_count": 0,
      "outputs": [
        {
          "output_type": "execute_result",
          "data": {
            "text/plain": [
              "email_id                  int64\n",
              "email_text               object\n",
              "email_version            object\n",
              "hour                      int64\n",
              "weekday                  object\n",
              "user_country             object\n",
              "user_past_purchases       int64\n",
              "hour_time              category\n",
              "Open                    float64\n",
              "Link                    float64\n",
              "dtype: object"
            ]
          },
          "metadata": {
            "tags": []
          },
          "execution_count": 9
        }
      ]
    },
    {
      "cell_type": "markdown",
      "metadata": {
        "id": "4rrzu39QX57M",
        "colab_type": "text"
      },
      "source": [
        "## **Data Preparation & Exploration**"
      ]
    },
    {
      "cell_type": "markdown",
      "metadata": {
        "id": "T1_G6oAmcUzR",
        "colab_type": "text"
      },
      "source": [
        "- Data Spliting<br>Separate dataset for model training and the evaluation of the model accuracy."
      ]
    },
    {
      "cell_type": "code",
      "metadata": {
        "id": "SrS2KV48U-RT",
        "colab_type": "code",
        "colab": {}
      },
      "source": [
        "# Shuffle data\n",
        "data_s = shuffle(data)\n",
        "data_s = pd.concat([data_s,\\\n",
        "                    pd.get_dummies(data_s['email_text']),\\\n",
        "                    pd.get_dummies(data_s['email_version']),\\\n",
        "                    pd.get_dummies(data_s['hour_time']),\\\n",
        "                    pd.get_dummies(data_s['weekday']),\\\n",
        "                    pd.get_dummies(data_s['user_country'])], axis=1)\n",
        "\n",
        "# Training set: 80%\n",
        "T_train = data_s[0:int(0.80*data_s.shape[0])]\n",
        "# Validation set: 10%\n",
        "T_valid = data_s[int(0.80*data_s.shape[0]):int(0.90*data_s.shape[0])]\n",
        "# Testing set: 10%\n",
        "T_test = data_s[int(0.90*data_s.shape[0]):]"
      ],
      "execution_count": 0,
      "outputs": []
    },
    {
      "cell_type": "markdown",
      "metadata": {
        "id": "Tdcwotabccs0",
        "colab_type": "text"
      },
      "source": [
        "- Continuous Variables\n"
      ]
    },
    {
      "cell_type": "code",
      "metadata": {
        "id": "YmytZ821aBB5",
        "colab_type": "code",
        "outputId": "dfa90637-5c51-4275-e0dc-adefb546fb3c",
        "colab": {
          "base_uri": "https://localhost:8080/",
          "height": 542
        }
      },
      "source": [
        "# user_past_purchases Log Transformation\n",
        "a = plt.figure(1)\n",
        "plt.hist(T_train['user_past_purchases'])\n",
        "plt.xlabel('User Past Purchases')\n",
        "plt.ylabel('Count')\n",
        "a.show()\n",
        "\n",
        "b = plt.figure(2)\n",
        "plt.hist(np.log(T_train['user_past_purchases']+1))\n",
        "plt.xlabel('log_User Past Purchases')\n",
        "plt.ylabel('Count')\n",
        "b.show()"
      ],
      "execution_count": 0,
      "outputs": [
        {
          "output_type": "display_data",
          "data": {
            "image/png": "[encoded data removed]",
            "text/plain": [
              "<Figure size 432x288 with 1 Axes>"
            ]
          },
          "metadata": {
            "tags": []
          }
        },
        {
          "output_type": "display_data",
          "data": {
            "image/png": "[encoded data removed]",
            "text/plain": [
              "<Figure size 432x288 with 1 Axes>"
            ]
          },
          "metadata": {
            "tags": []
          }
        }
      ]
    },
    {
      "cell_type": "code",
      "metadata": {
        "id": "Y4IxqKx9H1FS",
        "colab_type": "code",
        "outputId": "18cab2d1-f515-4010-d6b1-b3a1dfae6799",
        "colab": {
          "base_uri": "https://localhost:8080/",
          "height": 34
        }
      },
      "source": [
        "np.mean(data_s[\"Link\"].values)"
      ],
      "execution_count": 0,
      "outputs": [
        {
          "output_type": "execute_result",
          "data": {
            "text/plain": [
              "0.020700350175087544"
            ]
          },
          "metadata": {
            "tags": []
          },
          "execution_count": 12
        }
      ]
    },
    {
      "cell_type": "markdown",
      "metadata": {
        "id": "OKFxmBCUde_z",
        "colab_type": "text"
      },
      "source": [
        "- Categorical Variables "
      ]
    },
    {
      "cell_type": "code",
      "metadata": {
        "id": "6az6J1_e7JMj",
        "colab_type": "code",
        "outputId": "81c73470-59b4-401e-d4a2-7a055875ba7c",
        "colab": {
          "base_uri": "https://localhost:8080/",
          "height": 136
        }
      },
      "source": [
        "T_train.groupby('email_text').mean()[[\"Open\",\"Link\"]]"
      ],
      "execution_count": 0,
      "outputs": [
        {
          "output_type": "execute_result",
          "data": {
            "text/html": [
              "<div>\n",
              "<style scoped>\n",
              "    .dataframe tbody tr th:only-of-type {\n",
              "        vertical-align: middle;\n",
              "    }\n",
              "\n",
              "    .dataframe tbody tr th {\n",
              "        vertical-align: top;\n",
              "    }\n",
              "\n",
              "    .dataframe thead th {\n",
              "        text-align: right;\n",
              "    }\n",
              "</style>\n",
              "<table border=\"1\" class=\"dataframe\">\n",
              "  <thead>\n",
              "    <tr style=\"text-align: right;\">\n",
              "      <th></th>\n",
              "      <th>Open</th>\n",
              "      <th>Link</th>\n",
              "    </tr>\n",
              "    <tr>\n",
              "      <th>email_text</th>\n",
              "      <th></th>\n",
              "      <th></th>\n",
              "    </tr>\n",
              "  </thead>\n",
              "  <tbody>\n",
              "    <tr>\n",
              "      <th>long_email</th>\n",
              "      <td>0.090452</td>\n",
              "      <td>0.017931</td>\n",
              "    </tr>\n",
              "    <tr>\n",
              "      <th>short_email</th>\n",
              "      <td>0.116867</td>\n",
              "      <td>0.023640</td>\n",
              "    </tr>\n",
              "  </tbody>\n",
              "</table>\n",
              "</div>"
            ],
            "text/plain": [
              "                 Open      Link\n",
              "email_text                     \n",
              "long_email   0.090452  0.017931\n",
              "short_email  0.116867  0.023640"
            ]
          },
          "metadata": {
            "tags": []
          },
          "execution_count": 13
        }
      ]
    },
    {
      "cell_type": "code",
      "metadata": {
        "id": "rA5p5gvK71fx",
        "colab_type": "code",
        "outputId": "866aa1f7-61e4-48ba-ac3f-1b7b588bdeb2",
        "colab": {
          "base_uri": "https://localhost:8080/",
          "height": 136
        }
      },
      "source": [
        "T_train.groupby('email_version').mean()[[\"Open\",\"Link\"]]"
      ],
      "execution_count": 0,
      "outputs": [
        {
          "output_type": "execute_result",
          "data": {
            "text/html": [
              "<div>\n",
              "<style scoped>\n",
              "    .dataframe tbody tr th:only-of-type {\n",
              "        vertical-align: middle;\n",
              "    }\n",
              "\n",
              "    .dataframe tbody tr th {\n",
              "        vertical-align: top;\n",
              "    }\n",
              "\n",
              "    .dataframe thead th {\n",
              "        text-align: right;\n",
              "    }\n",
              "</style>\n",
              "<table border=\"1\" class=\"dataframe\">\n",
              "  <thead>\n",
              "    <tr style=\"text-align: right;\">\n",
              "      <th></th>\n",
              "      <th>Open</th>\n",
              "      <th>Link</th>\n",
              "    </tr>\n",
              "    <tr>\n",
              "      <th>email_version</th>\n",
              "      <th></th>\n",
              "      <th></th>\n",
              "    </tr>\n",
              "  </thead>\n",
              "  <tbody>\n",
              "    <tr>\n",
              "      <th>generic</th>\n",
              "      <td>0.079009</td>\n",
              "      <td>0.014420</td>\n",
              "    </tr>\n",
              "    <tr>\n",
              "      <th>personalized</th>\n",
              "      <td>0.128323</td>\n",
              "      <td>0.027159</td>\n",
              "    </tr>\n",
              "  </tbody>\n",
              "</table>\n",
              "</div>"
            ],
            "text/plain": [
              "                   Open      Link\n",
              "email_version                    \n",
              "generic        0.079009  0.014420\n",
              "personalized   0.128323  0.027159"
            ]
          },
          "metadata": {
            "tags": []
          },
          "execution_count": 14
        }
      ]
    },
    {
      "cell_type": "code",
      "metadata": {
        "id": "vgBykti0eSeM",
        "colab_type": "code",
        "outputId": "01040310-be0b-4a0f-c908-19c7b70d70fc",
        "colab": {
          "base_uri": "https://localhost:8080/",
          "height": 198
        }
      },
      "source": [
        "T_train.groupby('hour_time').mean()[[\"Open\",\"Link\"]]"
      ],
      "execution_count": 0,
      "outputs": [
        {
          "output_type": "execute_result",
          "data": {
            "text/html": [
              "<div>\n",
              "<style scoped>\n",
              "    .dataframe tbody tr th:only-of-type {\n",
              "        vertical-align: middle;\n",
              "    }\n",
              "\n",
              "    .dataframe tbody tr th {\n",
              "        vertical-align: top;\n",
              "    }\n",
              "\n",
              "    .dataframe thead th {\n",
              "        text-align: right;\n",
              "    }\n",
              "</style>\n",
              "<table border=\"1\" class=\"dataframe\">\n",
              "  <thead>\n",
              "    <tr style=\"text-align: right;\">\n",
              "      <th></th>\n",
              "      <th>Open</th>\n",
              "      <th>Link</th>\n",
              "    </tr>\n",
              "    <tr>\n",
              "      <th>hour_time</th>\n",
              "      <th></th>\n",
              "      <th></th>\n",
              "    </tr>\n",
              "  </thead>\n",
              "  <tbody>\n",
              "    <tr>\n",
              "      <th>night</th>\n",
              "      <td>0.085392</td>\n",
              "      <td>0.017169</td>\n",
              "    </tr>\n",
              "    <tr>\n",
              "      <th>morning</th>\n",
              "      <td>0.113971</td>\n",
              "      <td>0.023074</td>\n",
              "    </tr>\n",
              "    <tr>\n",
              "      <th>afternoon</th>\n",
              "      <td>0.107466</td>\n",
              "      <td>0.020771</td>\n",
              "    </tr>\n",
              "    <tr>\n",
              "      <th>evening</th>\n",
              "      <td>0.080594</td>\n",
              "      <td>0.015907</td>\n",
              "    </tr>\n",
              "  </tbody>\n",
              "</table>\n",
              "</div>"
            ],
            "text/plain": [
              "               Open      Link\n",
              "hour_time                    \n",
              "night      0.085392  0.017169\n",
              "morning    0.113971  0.023074\n",
              "afternoon  0.107466  0.020771\n",
              "evening    0.080594  0.015907"
            ]
          },
          "metadata": {
            "tags": []
          },
          "execution_count": 14
        }
      ]
    },
    {
      "cell_type": "code",
      "metadata": {
        "id": "h5HsCoaAdxmK",
        "colab_type": "code",
        "outputId": "b618949e-b24a-465b-dfbc-7529b8786605",
        "colab": {
          "base_uri": "https://localhost:8080/",
          "height": 288
        }
      },
      "source": [
        "T_train.groupby('weekday').mean()[[\"Open\",\"Link\"]]"
      ],
      "execution_count": 0,
      "outputs": [
        {
          "output_type": "execute_result",
          "data": {
            "text/html": [
              "<div>\n",
              "<style scoped>\n",
              "    .dataframe tbody tr th:only-of-type {\n",
              "        vertical-align: middle;\n",
              "    }\n",
              "\n",
              "    .dataframe tbody tr th {\n",
              "        vertical-align: top;\n",
              "    }\n",
              "\n",
              "    .dataframe thead th {\n",
              "        text-align: right;\n",
              "    }\n",
              "</style>\n",
              "<table border=\"1\" class=\"dataframe\">\n",
              "  <thead>\n",
              "    <tr style=\"text-align: right;\">\n",
              "      <th></th>\n",
              "      <th>Open</th>\n",
              "      <th>Link</th>\n",
              "    </tr>\n",
              "    <tr>\n",
              "      <th>weekday</th>\n",
              "      <th></th>\n",
              "      <th></th>\n",
              "    </tr>\n",
              "  </thead>\n",
              "  <tbody>\n",
              "    <tr>\n",
              "      <th>Friday</th>\n",
              "      <td>0.073969</td>\n",
              "      <td>0.014123</td>\n",
              "    </tr>\n",
              "    <tr>\n",
              "      <th>Monday</th>\n",
              "      <td>0.116816</td>\n",
              "      <td>0.023415</td>\n",
              "    </tr>\n",
              "    <tr>\n",
              "      <th>Saturday</th>\n",
              "      <td>0.088072</td>\n",
              "      <td>0.017614</td>\n",
              "    </tr>\n",
              "    <tr>\n",
              "      <th>Sunday</th>\n",
              "      <td>0.086923</td>\n",
              "      <td>0.014675</td>\n",
              "    </tr>\n",
              "    <tr>\n",
              "      <th>Thursday</th>\n",
              "      <td>0.114670</td>\n",
              "      <td>0.024113</td>\n",
              "    </tr>\n",
              "    <tr>\n",
              "      <th>Tuesday</th>\n",
              "      <td>0.119286</td>\n",
              "      <td>0.023521</td>\n",
              "    </tr>\n",
              "    <tr>\n",
              "      <th>Wednesday</th>\n",
              "      <td>0.123206</td>\n",
              "      <td>0.027280</td>\n",
              "    </tr>\n",
              "  </tbody>\n",
              "</table>\n",
              "</div>"
            ],
            "text/plain": [
              "               Open      Link\n",
              "weekday                      \n",
              "Friday     0.073969  0.014123\n",
              "Monday     0.116816  0.023415\n",
              "Saturday   0.088072  0.017614\n",
              "Sunday     0.086923  0.014675\n",
              "Thursday   0.114670  0.024113\n",
              "Tuesday    0.119286  0.023521\n",
              "Wednesday  0.123206  0.027280"
            ]
          },
          "metadata": {
            "tags": []
          },
          "execution_count": 15
        }
      ]
    },
    {
      "cell_type": "code",
      "metadata": {
        "id": "6mS6u-Lv6sRX",
        "colab_type": "code",
        "outputId": "746fb74d-a185-48a7-f4ca-4e0aedeae38d",
        "colab": {
          "base_uri": "https://localhost:8080/",
          "height": 198
        }
      },
      "source": [
        "T_train.groupby('user_country').mean()[[\"Open\",\"Link\"]]"
      ],
      "execution_count": 0,
      "outputs": [
        {
          "output_type": "execute_result",
          "data": {
            "text/html": [
              "<div>\n",
              "<style scoped>\n",
              "    .dataframe tbody tr th:only-of-type {\n",
              "        vertical-align: middle;\n",
              "    }\n",
              "\n",
              "    .dataframe tbody tr th {\n",
              "        vertical-align: top;\n",
              "    }\n",
              "\n",
              "    .dataframe thead th {\n",
              "        text-align: right;\n",
              "    }\n",
              "</style>\n",
              "<table border=\"1\" class=\"dataframe\">\n",
              "  <thead>\n",
              "    <tr style=\"text-align: right;\">\n",
              "      <th></th>\n",
              "      <th>Open</th>\n",
              "      <th>Link</th>\n",
              "    </tr>\n",
              "    <tr>\n",
              "      <th>user_country</th>\n",
              "      <th></th>\n",
              "      <th></th>\n",
              "    </tr>\n",
              "  </thead>\n",
              "  <tbody>\n",
              "    <tr>\n",
              "      <th>ES</th>\n",
              "      <td>0.039540</td>\n",
              "      <td>0.007832</td>\n",
              "    </tr>\n",
              "    <tr>\n",
              "      <th>FR</th>\n",
              "      <td>0.041028</td>\n",
              "      <td>0.006859</td>\n",
              "    </tr>\n",
              "    <tr>\n",
              "      <th>UK</th>\n",
              "      <td>0.118974</td>\n",
              "      <td>0.024071</td>\n",
              "    </tr>\n",
              "    <tr>\n",
              "      <th>US</th>\n",
              "      <td>0.118780</td>\n",
              "      <td>0.023922</td>\n",
              "    </tr>\n",
              "  </tbody>\n",
              "</table>\n",
              "</div>"
            ],
            "text/plain": [
              "                  Open      Link\n",
              "user_country                    \n",
              "ES            0.039540  0.007832\n",
              "FR            0.041028  0.006859\n",
              "UK            0.118974  0.024071\n",
              "US            0.118780  0.023922"
            ]
          },
          "metadata": {
            "tags": []
          },
          "execution_count": 16
        }
      ]
    },
    {
      "cell_type": "markdown",
      "metadata": {
        "id": "_7wolq2_dN28",
        "colab_type": "text"
      },
      "source": [
        "## **Logistic Model**"
      ]
    },
    {
      "cell_type": "markdown",
      "metadata": {
        "id": "kVWV4qWnEkqj",
        "colab_type": "text"
      },
      "source": [
        "### Model Building (Evaluation)\n",
        "\n"
      ]
    },
    {
      "cell_type": "markdown",
      "metadata": {
        "id": "ln78AShjZ2ll",
        "colab_type": "text"
      },
      "source": [
        "- Open"
      ]
    },
    {
      "cell_type": "code",
      "metadata": {
        "id": "WMx8u1Dgu6xp",
        "colab_type": "code",
        "outputId": "7f7625b5-fe92-4a41-8b10-6878edc11a91",
        "colab": {
          "base_uri": "https://localhost:8080/",
          "height": 691
        }
      },
      "source": [
        "candidate_variables=np.array([ 'C(email_version)', 'C(hour_time)', 'C(weekday)','C(user_country)'])\n",
        "\n",
        "full=len(candidate_variables)\n",
        "best_model=\"Open~np.log(user_past_purchases+1)\"\n",
        "BEST_BIC=np.inf\n",
        "actual=T_valid[\"Open\"].values\n",
        "for i in np.arange(full-1,-1,-1):\n",
        "  BIC=np.empty(i+1)\n",
        "  for j in range(i+1):\n",
        "    candidate_formula=best_model+\"+\"+candidate_variables[j]\n",
        "    model = logit(formula=candidate_formula,data=T_train).fit()\n",
        "    BIC[j]= model.bic\n",
        "    prediction=model.predict(T_valid)\n",
        "  print(BIC)\n",
        "  if BEST_BIC>np.min(BIC):\n",
        "    Add_i=np.where(BIC==np.min(BIC))[0][0]\n",
        "    best_model=best_model+\"+\"+candidate_variables[Add_i]\n",
        "    #print(Add_i)\n",
        "    print(\"variable added:\", candidate_variables[Add_i])\n",
        "   # print(best_model)\n",
        "    BEST_BIC=np.min(BIC)\n",
        "    candidate_variables=np.delete(candidate_variables,Add_i)    \n",
        "  else:\n",
        "    break\n",
        "    \n",
        "best_model"
      ],
      "execution_count": 0,
      "outputs": [
        {
          "output_type": "stream",
          "text": [
            "Optimization terminated successfully.\n",
            "         Current function value: 0.323997\n",
            "         Iterations 7\n",
            "Optimization terminated successfully.\n",
            "         Current function value: 0.326429\n",
            "         Iterations 7\n",
            "Optimization terminated successfully.\n",
            "         Current function value: 0.325495\n",
            "         Iterations 7\n",
            "Optimization terminated successfully.\n",
            "         Current function value: 0.320754\n",
            "         Iterations 7\n",
            "[51847.47204823 52258.93949054 52143.4380086  51351.47132678]\n",
            "variable added: C(user_country)\n",
            "Optimization terminated successfully.\n",
            "         Current function value: 0.317348\n",
            "         Iterations 7\n",
            "Optimization terminated successfully.\n",
            "         Current function value: 0.319818\n",
            "         Iterations 7\n",
            "Optimization terminated successfully.\n",
            "         Current function value: 0.318844\n",
            "         Iterations 7\n",
            "[50817.97158854 51235.61690443 51113.77885513]\n",
            "variable added: C(email_version)\n",
            "Optimization terminated successfully.\n",
            "         Current function value: 0.316410\n",
            "         Iterations 7\n",
            "Optimization terminated successfully.\n",
            "         Current function value: 0.315441\n",
            "         Iterations 7\n",
            "[50701.87978472 50580.86251249]\n",
            "variable added: C(weekday)\n",
            "Optimization terminated successfully.\n",
            "         Current function value: 0.314490\n",
            "         Iterations 7\n",
            "[50462.56962014]\n",
            "variable added: C(hour_time)\n"
          ],
          "name": "stdout"
        },
        {
          "output_type": "execute_result",
          "data": {
            "text/plain": [
              "'Open~np.log(user_past_purchases+1)+C(user_country)+C(email_version)+C(weekday)+C(hour_time)'"
            ]
          },
          "metadata": {
            "tags": []
          },
          "execution_count": 17
        }
      ]
    },
    {
      "cell_type": "markdown",
      "metadata": {
        "id": "cBFgr67iEpFe",
        "colab_type": "text"
      },
      "source": [
        "- Link\n"
      ]
    },
    {
      "cell_type": "code",
      "metadata": {
        "id": "ABEh5X8bykFl",
        "colab_type": "code",
        "outputId": "f8c7693b-98c7-4f5f-e8c9-cee46a8a7b59",
        "colab": {
          "base_uri": "https://localhost:8080/",
          "height": 985
        }
      },
      "source": [
        "candidate_variables=np.array(['C(email_text)', 'C(email_version)', 'C(hour_time)', \\\n",
        "                              'C(weekday)','C(user_country)'])\n",
        "full=len(candidate_variables)\n",
        "best_model=\"Link~np.log(user_past_purchases+1)\"\n",
        "BEST_BIC=np.inf\n",
        "actual=T_valid[\"Open\"].values\n",
        "for i in np.arange(full-1,-1,-1):\n",
        "  BIC=np.empty(i+1)\n",
        "  for j in range(i+1):\n",
        "    candidate_formula=best_model+\"+\"+candidate_variables[j]\n",
        "    model = logit(formula=candidate_formula,data=T_train).fit()\n",
        "    BIC[j]= model.bic\n",
        "    prediction=model.predict(T_valid)\n",
        "  print(BIC)\n",
        "  if BEST_BIC>np.min(BIC):\n",
        "    Add_i=np.where(BIC==np.min(BIC))[0][0]\n",
        "    best_model=best_model+\"+\"+candidate_variables[Add_i]\n",
        "    #print(Add_i)\n",
        "    print(\"variable added:\", candidate_variables[Add_i])\n",
        "   # print(best_model)\n",
        "    BEST_BIC=np.min(BIC)\n",
        "    candidate_variables=np.delete(candidate_variables,Add_i)    \n",
        "  else:\n",
        "    break\n",
        "    \n",
        "best_model"
      ],
      "execution_count": 0,
      "outputs": [
        {
          "output_type": "stream",
          "text": [
            "Optimization terminated successfully.\n",
            "         Current function value: 0.094877\n",
            "         Iterations 9\n",
            "Optimization terminated successfully.\n",
            "         Current function value: 0.094115\n",
            "         Iterations 9\n",
            "Optimization terminated successfully.\n",
            "         Current function value: 0.094968\n",
            "         Iterations 9\n",
            "Optimization terminated successfully.\n",
            "         Current function value: 0.094558\n",
            "         Iterations 9\n",
            "Optimization terminated successfully.\n",
            "         Current function value: 0.093704\n",
            "         Iterations 9\n",
            "[15206.52804541 15084.68332366 15243.67123709 15211.9544521\n",
            " 15041.51838783]\n",
            "variable added: C(user_country)\n",
            "Optimization terminated successfully.\n",
            "         Current function value: 0.093433\n",
            "         Iterations 9\n",
            "Optimization terminated successfully.\n",
            "         Current function value: 0.092674\n",
            "         Iterations 9\n",
            "Optimization terminated successfully.\n",
            "         Current function value: 0.093528\n",
            "         Iterations 9\n",
            "Optimization terminated successfully.\n",
            "         Current function value: 0.093110\n",
            "         Iterations 9\n",
            "[15009.60892598 14888.21171204 15047.2879989  15014.37213019]\n",
            "variable added: C(email_version)\n",
            "Optimization terminated successfully.\n",
            "         Current function value: 0.092407\n",
            "         Iterations 9\n",
            "Optimization terminated successfully.\n",
            "         Current function value: 0.092501\n",
            "         Iterations 9\n",
            "Optimization terminated successfully.\n",
            "         Current function value: 0.092077\n",
            "         Iterations 9\n",
            "[14856.82604429 14894.37462076 14860.39727223]\n",
            "variable added: C(email_text)\n",
            "Optimization terminated successfully.\n",
            "         Current function value: 0.092235\n",
            "         Iterations 9\n",
            "Optimization terminated successfully.\n",
            "         Current function value: 0.091815\n",
            "         Iterations 9\n",
            "[14863.16869373 14829.73589298]\n",
            "variable added: C(weekday)\n",
            "Optimization terminated successfully.\n",
            "         Current function value: 0.091640\n",
            "         Iterations 9\n",
            "[14835.69877316]\n"
          ],
          "name": "stdout"
        },
        {
          "output_type": "execute_result",
          "data": {
            "text/plain": [
              "'Link~np.log(user_past_purchases+1)+C(user_country)+C(email_version)+C(email_text)+C(weekday)'"
            ]
          },
          "metadata": {
            "tags": []
          },
          "execution_count": 18
        }
      ]
    },
    {
      "cell_type": "markdown",
      "metadata": {
        "id": "-xroIpZAf4WA",
        "colab_type": "text"
      },
      "source": [
        "### Model Summary"
      ]
    },
    {
      "cell_type": "code",
      "metadata": {
        "id": "imMGVQK-1dsb",
        "colab_type": "code",
        "outputId": "00e1f046-69e2-438e-fc8c-ac712ef00b1e",
        "colab": {
          "base_uri": "https://localhost:8080/",
          "height": 69
        }
      },
      "source": [
        "# logistic model\n",
        "best_model = 'Link~np.log(user_past_purchases+1)+C(user_country)+C(email_version)+C(weekday)+C(email_text)'\n",
        "model_logit = logit(formula=best_model,data=T_train).fit()"
      ],
      "execution_count": 0,
      "outputs": [
        {
          "output_type": "stream",
          "text": [
            "Optimization terminated successfully.\n",
            "         Current function value: 0.091815\n",
            "         Iterations 9\n"
          ],
          "name": "stdout"
        }
      ]
    },
    {
      "cell_type": "code",
      "metadata": {
        "id": "dDPlJg5RgESM",
        "colab_type": "code",
        "outputId": "7b1bee72-7abe-4800-bfb6-008cb94da753",
        "colab": {
          "base_uri": "https://localhost:8080/",
          "height": 466
        }
      },
      "source": [
        "print(model_logit.summary())"
      ],
      "execution_count": 0,
      "outputs": [
        {
          "output_type": "stream",
          "text": [
            "                           Logit Regression Results                           \n",
            "==============================================================================\n",
            "Dep. Variable:                   Link   No. Observations:                79960\n",
            "Model:                          Logit   Df Residuals:                    79947\n",
            "Method:                           MLE   Df Model:                           12\n",
            "Date:                Sun, 15 Dec 2019   Pseudo R-squ.:                 0.08687\n",
            "Time:                        16:36:15   Log-Likelihood:                -7341.5\n",
            "converged:                       True   LL-Null:                       -8040.0\n",
            "Covariance Type:            nonrobust   LLR p-value:                6.360e-292\n",
            "====================================================================================================\n",
            "                                       coef    std err          z      P>|z|      [0.025      0.975]\n",
            "----------------------------------------------------------------------------------------------------\n",
            "Intercept                           -7.7231      0.176    -43.805      0.000      -8.069      -7.378\n",
            "C(user_country)[T.FR]               -0.1338      0.187     -0.718      0.473      -0.499       0.232\n",
            "C(user_country)[T.UK]                1.1884      0.138      8.601      0.000       0.918       1.459\n",
            "C(user_country)[T.US]                1.1730      0.131      8.924      0.000       0.915       1.431\n",
            "C(email_version)[T.personalized]     0.6589      0.053     12.529      0.000       0.556       0.762\n",
            "C(weekday)[T.Monday]                 0.5304      0.101      5.226      0.000       0.331       0.729\n",
            "C(weekday)[T.Saturday]               0.2416      0.107      2.258      0.024       0.032       0.451\n",
            "C(weekday)[T.Sunday]                 0.0532      0.112      0.475      0.635      -0.166       0.272\n",
            "C(weekday)[T.Thursday]               0.5595      0.101      5.527      0.000       0.361       0.758\n",
            "C(weekday)[T.Tuesday]                0.5131      0.102      5.041      0.000       0.314       0.713\n",
            "C(weekday)[T.Wednesday]              0.7100      0.099      7.146      0.000       0.515       0.905\n",
            "C(email_text)[T.short_email]         0.3273      0.051      6.440      0.000       0.228       0.427\n",
            "np.log(user_past_purchases + 1)      1.1753      0.044     26.634      0.000       1.089       1.262\n",
            "====================================================================================================\n"
          ],
          "name": "stdout"
        }
      ]
    },
    {
      "cell_type": "code",
      "metadata": {
        "id": "oHKtD3ab1jCL",
        "colab_type": "code",
        "colab": {}
      },
      "source": [
        "# logistic model prediction and precision\n",
        "prediction = model_logit.predict(T_valid)\n",
        "T_valid = T_valid.assign(Predicted_P=prediction)\n",
        "T_valid['Predicted_Click_Rate'] = np.where(T_valid['Predicted_P']>0.5,1,0)\n",
        "T_valid['Precision'] = np.where(T_valid['Predicted_Click_Rate']==T_valid['Link'],1,0)"
      ],
      "execution_count": 0,
      "outputs": []
    },
    {
      "cell_type": "code",
      "metadata": {
        "id": "KR9gKtu11m09",
        "colab_type": "code",
        "outputId": "032c1fc0-e475-44e5-c475-a85796dd31d4",
        "colab": {
          "base_uri": "https://localhost:8080/",
          "height": 35
        }
      },
      "source": [
        "np.mean(T_valid['Precision'].values)\n",
        "T_valid.groupby(['Open','Link']).mean()[[\"Predicted_P\"]]\n",
        "np.mean(T_valid['Predicted_P'].values)\n",
        "np.mean(T_valid['Link'].values)"
      ],
      "execution_count": 0,
      "outputs": [
        {
          "output_type": "execute_result",
          "data": {
            "text/plain": [
              "0.019409704852426213"
            ]
          },
          "metadata": {
            "tags": []
          },
          "execution_count": 22
        }
      ]
    },
    {
      "cell_type": "code",
      "metadata": {
        "id": "-DVTW1FgPmc6",
        "colab_type": "code",
        "outputId": "d2f6555e-d0e8-4196-9b0f-af87361103f6",
        "colab": {
          "base_uri": "https://localhost:8080/",
          "height": 52
        }
      },
      "source": [
        "# Average predcited click rate for those who actually clicked the link\n",
        "print(np.mean(prediction[T_valid[\"Link\"]==1]))\n",
        "# Average predicted click rate for those who did not click the link\n",
        "print(np.mean(prediction[T_valid[\"Link\"]==0]))"
      ],
      "execution_count": 0,
      "outputs": [
        {
          "output_type": "stream",
          "text": [
            "0.03939836395482724\n",
            "0.0199200489042222\n"
          ],
          "name": "stdout"
        }
      ]
    },
    {
      "cell_type": "code",
      "metadata": {
        "id": "kRACrsqti4-j",
        "colab_type": "code",
        "outputId": "ef1ed760-3be5-4115-fdd8-5cdc5cc9ee3f",
        "colab": {
          "base_uri": "https://localhost:8080/",
          "height": 104
        }
      },
      "source": [
        "# AIC and BIC on test data\n",
        "# Open: Test Set AIC and BIC\n",
        "model1 = logit(\"Open~np.log(user_past_purchases+1)+C(user_country)+C(email_version)+C(weekday)+C(hour_time)\",data=T_test).fit()\n",
        "print(\"AIC: \",model1.aic)\n",
        "print(\"BIC: \", model1.bic)"
      ],
      "execution_count": 0,
      "outputs": [
        {
          "output_type": "stream",
          "text": [
            "Optimization terminated successfully.\n",
            "         Current function value: 0.323400\n",
            "         Iterations 7\n",
            "AIC:  6494.759002345519\n",
            "BIC:  6602.906606049536\n"
          ],
          "name": "stdout"
        }
      ]
    },
    {
      "cell_type": "code",
      "metadata": {
        "id": "gvJzTITYi_51",
        "colab_type": "code",
        "outputId": "e51826f5-797a-4660-baf4-4d075330aa36",
        "colab": {
          "base_uri": "https://localhost:8080/",
          "height": 104
        }
      },
      "source": [
        "# Test Set AIC and BIC\n",
        "model1 = logit(\"Link~np.log(user_past_purchases+1)+C(user_country)+C(email_version)+C(weekday)+C(email_text)\",data=T_test).fit()\n",
        "print(\"AIC: \",model1.aic)\n",
        "print(\"BIC: \", model1.bic)"
      ],
      "execution_count": 0,
      "outputs": [
        {
          "output_type": "stream",
          "text": [
            "Optimization terminated successfully.\n",
            "         Current function value: 0.098585\n",
            "         Iterations 9\n",
            "AIC:  1996.7077690485944\n",
            "BIC:  2090.435692258743\n"
          ],
          "name": "stdout"
        }
      ]
    },
    {
      "cell_type": "markdown",
      "metadata": {
        "id": "h9TYImeR5G5W",
        "colab_type": "text"
      },
      "source": [
        "## **Decision Tree**"
      ]
    },
    {
      "cell_type": "code",
      "metadata": {
        "id": "BnWMtypzz1Jq",
        "colab_type": "code",
        "colab": {}
      },
      "source": [
        "from sklearn.tree import DecisionTreeRegressor\n",
        "# from sklearn.tree import DecisionTreeClassifier\n",
        "from sklearn.tree import plot_tree\n",
        "from sklearn.tree.export import export_text\n",
        "from sklearn import tree\n",
        "import graphviz\n",
        "from sklearn.ensemble import RandomForestRegressor"
      ],
      "execution_count": 0,
      "outputs": []
    },
    {
      "cell_type": "code",
      "metadata": {
        "id": "9scVySOM7C5W",
        "colab_type": "code",
        "outputId": "4ed3eb20-62ae-4689-ac96-959873ff84a4",
        "colab": {
          "base_uri": "https://localhost:8080/",
          "height": 121
        }
      },
      "source": [
        "T_train.columns"
      ],
      "execution_count": 0,
      "outputs": [
        {
          "output_type": "execute_result",
          "data": {
            "text/plain": [
              "Index(['email_id', 'email_text', 'email_version', 'hour', 'weekday',\n",
              "       'user_country', 'user_past_purchases', 'hour_time', 'Open', 'Link',\n",
              "       'long_email', 'short_email', 'generic', 'personalized', 'night',\n",
              "       'morning', 'afternoon', 'evening', 'Friday', 'Monday', 'Saturday',\n",
              "       'Sunday', 'Thursday', 'Tuesday', 'Wednesday', 'ES', 'FR', 'UK', 'US'],\n",
              "      dtype='object')"
            ]
          },
          "metadata": {
            "tags": []
          },
          "execution_count": 27
        }
      ]
    },
    {
      "cell_type": "markdown",
      "metadata": {
        "id": "6Pk6vdEJzNE1",
        "colab_type": "text"
      },
      "source": [
        "- Open"
      ]
    },
    {
      "cell_type": "code",
      "metadata": {
        "id": "9ppoxfFk0exa",
        "colab_type": "code",
        "outputId": "58c49824-6aa4-4ae7-9e06-2842203b17db",
        "colab": {
          "base_uri": "https://localhost:8080/",
          "height": 380
        }
      },
      "source": [
        "Features_op=['personalized', 'user_past_purchases', \\\n",
        "             'morning', 'afternoon', 'evening', 'night', \\\n",
        "             'Monday', 'Tuesday', 'Wednesday', 'Thursday', 'Friday', 'Saturday', 'Sunday', \\\n",
        "             'UK', 'US', 'ES', 'FR']\n",
        "\n",
        "model_dt_open = DecisionTreeRegressor(max_depth=2)\n",
        "\n",
        "model_dt_open_fit = model_dt_open.fit(T_train[Features_op], T_train['Open'])\n",
        "\n",
        "# path = export_text(model_dt_open_fit, feature_names=Features_op)\n",
        "\n",
        "dot_data_op = tree.export_graphviz(model_dt_open_fit, out_file=None, \n",
        "                                feature_names=Features_op,  \n",
        "                                class_names='Open',  \n",
        "                                filled=True, rounded=True)  \n",
        "graph_op = graphviz.Source(dot_data_op) \n",
        "graph_op"
      ],
      "execution_count": 0,
      "outputs": [
        {
          "output_type": "execute_result",
          "data": {
            "text/plain": [
              "<graphviz.files.Source at 0x7fc9fdf48f98>"
            ],
            "image/svg+xml": "<?xml version=\"1.0\" encoding=\"UTF-8\" standalone=\"no\"?>\n<!DOCTYPE svg PUBLIC \"-//W3C//DTD SVG 1.1//EN\"\n \"http://www.w3.org/Graphics/SVG/1.1/DTD/svg11.dtd\">\n<!-- Generated by graphviz version 2.40.1 (20161225.0304)\n -->\n<!-- Title: Tree Pages: 1 -->\n<svg width=\"564pt\" height=\"269pt\"\n viewBox=\"0.00 0.00 564.00 269.00\" xmlns=\"http://www.w3.org/2000/svg\" xmlns:xlink=\"http://www.w3.org/1999/xlink\">\n<g id=\"graph0\" class=\"graph\" transform=\"scale(1 1) rotate(0) translate(4 265)\">\n<title>Tree</title>\n<polygon fill=\"#ffffff\" stroke=\"transparent\" points=\"-4,4 -4,-265 560,-265 560,4 -4,4\"/>\n<!-- 0 -->\n<g id=\"node1\" class=\"node\">\n<title>0</title>\n<path fill=\"#eeaa7a\" stroke=\"#000000\" d=\"M361,-261C361,-261 183,-261 183,-261 177,-261 171,-255 171,-249 171,-249 171,-205 171,-205 171,-199 177,-193 183,-193 183,-193 361,-193 361,-193 367,-193 373,-199 373,-205 373,-205 373,-249 373,-249 373,-255 367,-261 361,-261\"/>\n<text text-anchor=\"middle\" x=\"272\" y=\"-245.8\" font-family=\"Helvetica,sans-Serif\" font-size=\"14.00\" fill=\"#000000\">user_past_purchases &lt;= 0.5</text>\n<text text-anchor=\"middle\" x=\"272\" y=\"-230.8\" font-family=\"Helvetica,sans-Serif\" font-size=\"14.00\" fill=\"#000000\">mse = 0.093</text>\n<text text-anchor=\"middle\" x=\"272\" y=\"-215.8\" font-family=\"Helvetica,sans-Serif\" font-size=\"14.00\" fill=\"#000000\">samples = 79960</text>\n<text text-anchor=\"middle\" x=\"272\" y=\"-200.8\" font-family=\"Helvetica,sans-Serif\" font-size=\"14.00\" fill=\"#000000\">value = 0.103</text>\n</g>\n<!-- 1 -->\n<g id=\"node2\" class=\"node\">\n<title>1</title>\n<path fill=\"#fcf1ea\" stroke=\"#000000\" d=\"M247,-157C247,-157 143,-157 143,-157 137,-157 131,-151 131,-145 131,-145 131,-101 131,-101 131,-95 137,-89 143,-89 143,-89 247,-89 247,-89 253,-89 259,-95 259,-101 259,-101 259,-145 259,-145 259,-151 253,-157 247,-157\"/>\n<text text-anchor=\"middle\" x=\"195\" y=\"-141.8\" font-family=\"Helvetica,sans-Serif\" font-size=\"14.00\" fill=\"#000000\">US &lt;= 0.5</text>\n<text text-anchor=\"middle\" x=\"195\" y=\"-126.8\" font-family=\"Helvetica,sans-Serif\" font-size=\"14.00\" fill=\"#000000\">mse = 0.037</text>\n<text text-anchor=\"middle\" x=\"195\" y=\"-111.8\" font-family=\"Helvetica,sans-Serif\" font-size=\"14.00\" fill=\"#000000\">samples = 11082</text>\n<text text-anchor=\"middle\" x=\"195\" y=\"-96.8\" font-family=\"Helvetica,sans-Serif\" font-size=\"14.00\" fill=\"#000000\">value = 0.038</text>\n</g>\n<!-- 0&#45;&gt;1 -->\n<g id=\"edge1\" class=\"edge\">\n<title>0&#45;&gt;1</title>\n<path fill=\"none\" stroke=\"#000000\" d=\"M246.7873,-192.9465C240.2727,-184.1475 233.1795,-174.5672 226.3918,-165.3993\"/>\n<polygon fill=\"#000000\" stroke=\"#000000\" points=\"229.0327,-163.0843 220.2693,-157.13 223.4069,-167.2496 229.0327,-163.0843\"/>\n<text text-anchor=\"middle\" x=\"216.5809\" y=\"-178.1564\" font-family=\"Helvetica,sans-Serif\" font-size=\"14.00\" fill=\"#000000\">True</text>\n</g>\n<!-- 4 -->\n<g id=\"node5\" class=\"node\">\n<title>4</title>\n<path fill=\"#eb9f68\" stroke=\"#000000\" d=\"M409,-157C409,-157 289,-157 289,-157 283,-157 277,-151 277,-145 277,-145 277,-101 277,-101 277,-95 283,-89 289,-89 289,-89 409,-89 409,-89 415,-89 421,-95 421,-101 421,-101 421,-145 421,-145 421,-151 415,-157 409,-157\"/>\n<text text-anchor=\"middle\" x=\"349\" y=\"-141.8\" font-family=\"Helvetica,sans-Serif\" font-size=\"14.00\" fill=\"#000000\">personalized &lt;= 0.5</text>\n<text text-anchor=\"middle\" x=\"349\" y=\"-126.8\" font-family=\"Helvetica,sans-Serif\" font-size=\"14.00\" fill=\"#000000\">mse = 0.101</text>\n<text text-anchor=\"middle\" x=\"349\" y=\"-111.8\" font-family=\"Helvetica,sans-Serif\" font-size=\"14.00\" fill=\"#000000\">samples = 68878</text>\n<text text-anchor=\"middle\" x=\"349\" y=\"-96.8\" font-family=\"Helvetica,sans-Serif\" font-size=\"14.00\" fill=\"#000000\">value = 0.114</text>\n</g>\n<!-- 0&#45;&gt;4 -->\n<g id=\"edge4\" class=\"edge\">\n<title>0&#45;&gt;4</title>\n<path fill=\"none\" stroke=\"#000000\" d=\"M297.2127,-192.9465C303.7273,-184.1475 310.8205,-174.5672 317.6082,-165.3993\"/>\n<polygon fill=\"#000000\" stroke=\"#000000\" points=\"320.5931,-167.2496 323.7307,-157.13 314.9673,-163.0843 320.5931,-167.2496\"/>\n<text text-anchor=\"middle\" x=\"327.4191\" y=\"-178.1564\" font-family=\"Helvetica,sans-Serif\" font-size=\"14.00\" fill=\"#000000\">False</text>\n</g>\n<!-- 2 -->\n<g id=\"node3\" class=\"node\">\n<title>2</title>\n<path fill=\"#ffffff\" stroke=\"#000000\" d=\"M108,-53C108,-53 12,-53 12,-53 6,-53 0,-47 0,-41 0,-41 0,-12 0,-12 0,-6 6,0 12,0 12,0 108,0 108,0 114,0 120,-6 120,-12 120,-12 120,-41 120,-41 120,-47 114,-53 108,-53\"/>\n<text text-anchor=\"middle\" x=\"60\" y=\"-37.8\" font-family=\"Helvetica,sans-Serif\" font-size=\"14.00\" fill=\"#000000\">mse = 0.025</text>\n<text text-anchor=\"middle\" x=\"60\" y=\"-22.8\" font-family=\"Helvetica,sans-Serif\" font-size=\"14.00\" fill=\"#000000\">samples = 4418</text>\n<text text-anchor=\"middle\" x=\"60\" y=\"-7.8\" font-family=\"Helvetica,sans-Serif\" font-size=\"14.00\" fill=\"#000000\">value = 0.026</text>\n</g>\n<!-- 1&#45;&gt;2 -->\n<g id=\"edge2\" class=\"edge\">\n<title>1&#45;&gt;2</title>\n<path fill=\"none\" stroke=\"#000000\" d=\"M147.4041,-88.9777C133.8252,-79.2713 119.0661,-68.7213 105.6088,-59.1018\"/>\n<polygon fill=\"#000000\" stroke=\"#000000\" points=\"107.5908,-56.2164 97.4202,-53.2485 103.5201,-61.9111 107.5908,-56.2164\"/>\n</g>\n<!-- 3 -->\n<g id=\"node4\" class=\"node\">\n<title>3</title>\n<path fill=\"#fae9dc\" stroke=\"#000000\" d=\"M246,-53C246,-53 150,-53 150,-53 144,-53 138,-47 138,-41 138,-41 138,-12 138,-12 138,-6 144,0 150,0 150,0 246,0 246,0 252,0 258,-6 258,-12 258,-12 258,-41 258,-41 258,-47 252,-53 246,-53\"/>\n<text text-anchor=\"middle\" x=\"198\" y=\"-37.8\" font-family=\"Helvetica,sans-Serif\" font-size=\"14.00\" fill=\"#000000\">mse = 0.044</text>\n<text text-anchor=\"middle\" x=\"198\" y=\"-22.8\" font-family=\"Helvetica,sans-Serif\" font-size=\"14.00\" fill=\"#000000\">samples = 6664</text>\n<text text-anchor=\"middle\" x=\"198\" y=\"-7.8\" font-family=\"Helvetica,sans-Serif\" font-size=\"14.00\" fill=\"#000000\">value = 0.046</text>\n</g>\n<!-- 1&#45;&gt;3 -->\n<g id=\"edge3\" class=\"edge\">\n<title>1&#45;&gt;3</title>\n<path fill=\"none\" stroke=\"#000000\" d=\"M196.0577,-88.9777C196.3139,-80.7364 196.589,-71.887 196.8493,-63.5153\"/>\n<polygon fill=\"#000000\" stroke=\"#000000\" points=\"200.3559,-63.3524 197.1684,-53.2485 193.3593,-63.1349 200.3559,-63.3524\"/>\n</g>\n<!-- 5 -->\n<g id=\"node6\" class=\"node\">\n<title>5</title>\n<path fill=\"#f1bd97\" stroke=\"#000000\" d=\"M398,-53C398,-53 294,-53 294,-53 288,-53 282,-47 282,-41 282,-41 282,-12 282,-12 282,-6 288,0 294,0 294,0 398,0 398,0 404,0 410,-6 410,-12 410,-12 410,-41 410,-41 410,-47 404,-53 398,-53\"/>\n<text text-anchor=\"middle\" x=\"346\" y=\"-37.8\" font-family=\"Helvetica,sans-Serif\" font-size=\"14.00\" fill=\"#000000\">mse = 0.079</text>\n<text text-anchor=\"middle\" x=\"346\" y=\"-22.8\" font-family=\"Helvetica,sans-Serif\" font-size=\"14.00\" fill=\"#000000\">samples = 34591</text>\n<text text-anchor=\"middle\" x=\"346\" y=\"-7.8\" font-family=\"Helvetica,sans-Serif\" font-size=\"14.00\" fill=\"#000000\">value = 0.086</text>\n</g>\n<!-- 4&#45;&gt;5 -->\n<g id=\"edge5\" class=\"edge\">\n<title>4&#45;&gt;5</title>\n<path fill=\"none\" stroke=\"#000000\" d=\"M347.9423,-88.9777C347.6861,-80.7364 347.411,-71.887 347.1507,-63.5153\"/>\n<polygon fill=\"#000000\" stroke=\"#000000\" points=\"350.6407,-63.1349 346.8316,-53.2485 343.6441,-63.3524 350.6407,-63.1349\"/>\n</g>\n<!-- 6 -->\n<g id=\"node7\" class=\"node\">\n<title>6</title>\n<path fill=\"#e58139\" stroke=\"#000000\" d=\"M544,-53C544,-53 440,-53 440,-53 434,-53 428,-47 428,-41 428,-41 428,-12 428,-12 428,-6 434,0 440,0 440,0 544,0 544,0 550,0 556,-6 556,-12 556,-12 556,-41 556,-41 556,-47 550,-53 544,-53\"/>\n<text text-anchor=\"middle\" x=\"492\" y=\"-37.8\" font-family=\"Helvetica,sans-Serif\" font-size=\"14.00\" fill=\"#000000\">mse = 0.121</text>\n<text text-anchor=\"middle\" x=\"492\" y=\"-22.8\" font-family=\"Helvetica,sans-Serif\" font-size=\"14.00\" fill=\"#000000\">samples = 34287</text>\n<text text-anchor=\"middle\" x=\"492\" y=\"-7.8\" font-family=\"Helvetica,sans-Serif\" font-size=\"14.00\" fill=\"#000000\">value = 0.141</text>\n</g>\n<!-- 4&#45;&gt;6 -->\n<g id=\"edge6\" class=\"edge\">\n<title>4&#45;&gt;6</title>\n<path fill=\"none\" stroke=\"#000000\" d=\"M399.4165,-88.9777C413.8,-79.2713 429.4337,-68.7213 443.6885,-59.1018\"/>\n<polygon fill=\"#000000\" stroke=\"#000000\" points=\"446.031,-61.7435 452.3624,-53.2485 442.1154,-55.941 446.031,-61.7435\"/>\n</g>\n</g>\n</svg>\n"
          },
          "metadata": {
            "tags": []
          },
          "execution_count": 28
        }
      ]
    },
    {
      "cell_type": "code",
      "metadata": {
        "id": "X6Kr--AyxRF9",
        "colab_type": "code",
        "outputId": "88b60792-b3e0-4eff-a6be-c77b6680c5c7",
        "colab": {
          "base_uri": "https://localhost:8080/",
          "height": 52
        }
      },
      "source": [
        "def MSE_op(features):\n",
        "  model_rf_open=RandomForestRegressor(max_depth=2,n_estimators=100,bootstrap=False,max_features=features)\n",
        "  model_rf_open.fit(T_train[Features_op], T_train['Open'])\n",
        "  prediction=np.exp(model_rf_open.predict(T_valid[Features_op]))\n",
        "  MSE=(np.mean((prediction-T_valid['Open'].values)**2))**0.5\n",
        "  return MSE\n",
        "\n",
        "i_array=np.arange(len(Features_op))\n",
        "MSE_array=np.array([MSE_op(i+1) for i in i_array])\n",
        "print('best features:', i_array[np.argmin(MSE_array)]+1, '\\nbest MSE:', np.min(MSE_array))"
      ],
      "execution_count": 0,
      "outputs": [
        {
          "output_type": "stream",
          "text": [
            "best features: 9 \n",
            "best MSE: 1.0505390663815424\n"
          ],
          "name": "stdout"
        }
      ]
    },
    {
      "cell_type": "markdown",
      "metadata": {
        "id": "d0EnS6qpzRwn",
        "colab_type": "text"
      },
      "source": [
        "- Link"
      ]
    },
    {
      "cell_type": "code",
      "metadata": {
        "id": "5mmNba2xcqqf",
        "colab_type": "code",
        "outputId": "6b984ae1-4f67-40a9-9a2c-f99afad8669c",
        "colab": {
          "base_uri": "https://localhost:8080/",
          "height": 380
        }
      },
      "source": [
        "Features_lk=['long_email', 'personalized', 'user_past_purchases', \\\n",
        "             'morning', 'afternoon', 'evening', 'night', \\\n",
        "             'Monday', 'Tuesday', 'Wednesday', 'Thursday', 'Friday', 'Saturday', 'Sunday', \\\n",
        "             'UK', 'US', 'ES', 'FR']\n",
        "\n",
        "model_dt_link = DecisionTreeRegressor(max_depth=2)\n",
        "\n",
        "model_dt_link_fit = model_dt_link.fit(T_train[Features_lk], T_train['Link'])\n",
        "\n",
        "# path = export_text(model_dt_link_fit, feature_names=Features_lk)\n",
        "\n",
        "dot_data_lk = tree.export_graphviz(model_dt_link_fit, out_file=None, \n",
        "                                feature_names=Features_lk,  \n",
        "                                class_names='Link',  \n",
        "                                filled=True, rounded=True)  \n",
        "graph_lk = graphviz.Source(dot_data_lk) \n",
        "graph_lk"
      ],
      "execution_count": 0,
      "outputs": [
        {
          "output_type": "execute_result",
          "data": {
            "text/plain": [
              "<graphviz.files.Source at 0x7fc9ff1d05f8>"
            ],
            "image/svg+xml": "<?xml version=\"1.0\" encoding=\"UTF-8\" standalone=\"no\"?>\n<!DOCTYPE svg PUBLIC \"-//W3C//DTD SVG 1.1//EN\"\n \"http://www.w3.org/Graphics/SVG/1.1/DTD/svg11.dtd\">\n<!-- Generated by graphviz version 2.40.1 (20161225.0304)\n -->\n<!-- Title: Tree Pages: 1 -->\n<svg width=\"596pt\" height=\"269pt\"\n viewBox=\"0.00 0.00 596.00 269.00\" xmlns=\"http://www.w3.org/2000/svg\" xmlns:xlink=\"http://www.w3.org/1999/xlink\">\n<g id=\"graph0\" class=\"graph\" transform=\"scale(1 1) rotate(0) translate(4 265)\">\n<title>Tree</title>\n<polygon fill=\"#ffffff\" stroke=\"transparent\" points=\"-4,4 -4,-265 592,-265 592,4 -4,4\"/>\n<!-- 0 -->\n<g id=\"node1\" class=\"node\">\n<title>0</title>\n<path fill=\"#f5cdb0\" stroke=\"#000000\" d=\"M382,-261C382,-261 204,-261 204,-261 198,-261 192,-255 192,-249 192,-249 192,-205 192,-205 192,-199 198,-193 204,-193 204,-193 382,-193 382,-193 388,-193 394,-199 394,-205 394,-205 394,-249 394,-249 394,-255 388,-261 382,-261\"/>\n<text text-anchor=\"middle\" x=\"293\" y=\"-245.8\" font-family=\"Helvetica,sans-Serif\" font-size=\"14.00\" fill=\"#000000\">user_past_purchases &lt;= 5.5</text>\n<text text-anchor=\"middle\" x=\"293\" y=\"-230.8\" font-family=\"Helvetica,sans-Serif\" font-size=\"14.00\" fill=\"#000000\">mse = 0.02</text>\n<text text-anchor=\"middle\" x=\"293\" y=\"-215.8\" font-family=\"Helvetica,sans-Serif\" font-size=\"14.00\" fill=\"#000000\">samples = 79960</text>\n<text text-anchor=\"middle\" x=\"293\" y=\"-200.8\" font-family=\"Helvetica,sans-Serif\" font-size=\"14.00\" fill=\"#000000\">value = 0.021</text>\n</g>\n<!-- 1 -->\n<g id=\"node2\" class=\"node\">\n<title>1</title>\n<path fill=\"#f8dfcd\" stroke=\"#000000\" d=\"M287,-157C287,-157 109,-157 109,-157 103,-157 97,-151 97,-145 97,-145 97,-101 97,-101 97,-95 103,-89 109,-89 109,-89 287,-89 287,-89 293,-89 299,-95 299,-101 299,-101 299,-145 299,-145 299,-151 293,-157 287,-157\"/>\n<text text-anchor=\"middle\" x=\"198\" y=\"-141.8\" font-family=\"Helvetica,sans-Serif\" font-size=\"14.00\" fill=\"#000000\">user_past_purchases &lt;= 0.5</text>\n<text text-anchor=\"middle\" x=\"198\" y=\"-126.8\" font-family=\"Helvetica,sans-Serif\" font-size=\"14.00\" fill=\"#000000\">mse = 0.013</text>\n<text text-anchor=\"middle\" x=\"198\" y=\"-111.8\" font-family=\"Helvetica,sans-Serif\" font-size=\"14.00\" fill=\"#000000\">samples = 57918</text>\n<text text-anchor=\"middle\" x=\"198\" y=\"-96.8\" font-family=\"Helvetica,sans-Serif\" font-size=\"14.00\" fill=\"#000000\">value = 0.013</text>\n</g>\n<!-- 0&#45;&gt;1 -->\n<g id=\"edge1\" class=\"edge\">\n<title>0&#45;&gt;1</title>\n<path fill=\"none\" stroke=\"#000000\" d=\"M261.8934,-192.9465C253.6099,-183.8782 244.5682,-173.9799 235.9621,-164.5585\"/>\n<polygon fill=\"#000000\" stroke=\"#000000\" points=\"238.505,-162.1528 229.1764,-157.13 233.3367,-166.8739 238.505,-162.1528\"/>\n<text text-anchor=\"middle\" x=\"228.0469\" y=\"-178.4045\" font-family=\"Helvetica,sans-Serif\" font-size=\"14.00\" fill=\"#000000\">True</text>\n</g>\n<!-- 4 -->\n<g id=\"node5\" class=\"node\">\n<title>4</title>\n<path fill=\"#eb9c63\" stroke=\"#000000\" d=\"M449,-157C449,-157 329,-157 329,-157 323,-157 317,-151 317,-145 317,-145 317,-101 317,-101 317,-95 323,-89 329,-89 329,-89 449,-89 449,-89 455,-89 461,-95 461,-101 461,-101 461,-145 461,-145 461,-151 455,-157 449,-157\"/>\n<text text-anchor=\"middle\" x=\"389\" y=\"-141.8\" font-family=\"Helvetica,sans-Serif\" font-size=\"14.00\" fill=\"#000000\">personalized &lt;= 0.5</text>\n<text text-anchor=\"middle\" x=\"389\" y=\"-126.8\" font-family=\"Helvetica,sans-Serif\" font-size=\"14.00\" fill=\"#000000\">mse = 0.039</text>\n<text text-anchor=\"middle\" x=\"389\" y=\"-111.8\" font-family=\"Helvetica,sans-Serif\" font-size=\"14.00\" fill=\"#000000\">samples = 22042</text>\n<text text-anchor=\"middle\" x=\"389\" y=\"-96.8\" font-family=\"Helvetica,sans-Serif\" font-size=\"14.00\" fill=\"#000000\">value = 0.04</text>\n</g>\n<!-- 0&#45;&gt;4 -->\n<g id=\"edge4\" class=\"edge\">\n<title>0&#45;&gt;4</title>\n<path fill=\"none\" stroke=\"#000000\" d=\"M324.434,-192.9465C332.8047,-183.8782 341.9416,-173.9799 350.6383,-164.5585\"/>\n<polygon fill=\"#000000\" stroke=\"#000000\" points=\"353.2844,-166.852 357.4954,-157.13 348.1407,-162.1041 353.2844,-166.852\"/>\n<text text-anchor=\"middle\" x=\"358.4946\" y=\"-178.41\" font-family=\"Helvetica,sans-Serif\" font-size=\"14.00\" fill=\"#000000\">False</text>\n</g>\n<!-- 2 -->\n<g id=\"node3\" class=\"node\">\n<title>2</title>\n<path fill=\"#ffffff\" stroke=\"#000000\" d=\"M116,-53C116,-53 12,-53 12,-53 6,-53 0,-47 0,-41 0,-41 0,-12 0,-12 0,-6 6,0 12,0 12,0 116,0 116,0 122,0 128,-6 128,-12 128,-12 128,-41 128,-41 128,-47 122,-53 116,-53\"/>\n<text text-anchor=\"middle\" x=\"64\" y=\"-37.8\" font-family=\"Helvetica,sans-Serif\" font-size=\"14.00\" fill=\"#000000\">mse = 0.0</text>\n<text text-anchor=\"middle\" x=\"64\" y=\"-22.8\" font-family=\"Helvetica,sans-Serif\" font-size=\"14.00\" fill=\"#000000\">samples = 11082</text>\n<text text-anchor=\"middle\" x=\"64\" y=\"-7.8\" font-family=\"Helvetica,sans-Serif\" font-size=\"14.00\" fill=\"#000000\">value = 0.0</text>\n</g>\n<!-- 1&#45;&gt;2 -->\n<g id=\"edge2\" class=\"edge\">\n<title>1&#45;&gt;2</title>\n<path fill=\"none\" stroke=\"#000000\" d=\"M150.7566,-88.9777C137.2783,-79.2713 122.6285,-68.7213 109.2709,-59.1018\"/>\n<polygon fill=\"#000000\" stroke=\"#000000\" points=\"111.3031,-56.2522 101.143,-53.2485 107.2124,-61.9325 111.3031,-56.2522\"/>\n</g>\n<!-- 3 -->\n<g id=\"node4\" class=\"node\">\n<title>3</title>\n<path fill=\"#f7d8c1\" stroke=\"#000000\" d=\"M262,-53C262,-53 158,-53 158,-53 152,-53 146,-47 146,-41 146,-41 146,-12 146,-12 146,-6 152,0 158,0 158,0 262,0 262,0 268,0 274,-6 274,-12 274,-12 274,-41 274,-41 274,-47 268,-53 262,-53\"/>\n<text text-anchor=\"middle\" x=\"210\" y=\"-37.8\" font-family=\"Helvetica,sans-Serif\" font-size=\"14.00\" fill=\"#000000\">mse = 0.016</text>\n<text text-anchor=\"middle\" x=\"210\" y=\"-22.8\" font-family=\"Helvetica,sans-Serif\" font-size=\"14.00\" fill=\"#000000\">samples = 46836</text>\n<text text-anchor=\"middle\" x=\"210\" y=\"-7.8\" font-family=\"Helvetica,sans-Serif\" font-size=\"14.00\" fill=\"#000000\">value = 0.016</text>\n</g>\n<!-- 1&#45;&gt;3 -->\n<g id=\"edge3\" class=\"edge\">\n<title>1&#45;&gt;3</title>\n<path fill=\"none\" stroke=\"#000000\" d=\"M202.2308,-88.9777C203.267,-80.6449 204.3805,-71.6903 205.4317,-63.2364\"/>\n<polygon fill=\"#000000\" stroke=\"#000000\" points=\"208.9129,-63.604 206.6738,-53.2485 201.9664,-62.7401 208.9129,-63.604\"/>\n</g>\n<!-- 5 -->\n<g id=\"node6\" class=\"node\">\n<title>5</title>\n<path fill=\"#f0b78e\" stroke=\"#000000\" d=\"M430,-53C430,-53 326,-53 326,-53 320,-53 314,-47 314,-41 314,-41 314,-12 314,-12 314,-6 320,0 326,0 326,0 430,0 430,0 436,0 442,-6 442,-12 442,-12 442,-41 442,-41 442,-47 436,-53 430,-53\"/>\n<text text-anchor=\"middle\" x=\"378\" y=\"-37.8\" font-family=\"Helvetica,sans-Serif\" font-size=\"14.00\" fill=\"#000000\">mse = 0.029</text>\n<text text-anchor=\"middle\" x=\"378\" y=\"-22.8\" font-family=\"Helvetica,sans-Serif\" font-size=\"14.00\" fill=\"#000000\">samples = 11032</text>\n<text text-anchor=\"middle\" x=\"378\" y=\"-7.8\" font-family=\"Helvetica,sans-Serif\" font-size=\"14.00\" fill=\"#000000\">value = 0.029</text>\n</g>\n<!-- 4&#45;&gt;5 -->\n<g id=\"edge5\" class=\"edge\">\n<title>4&#45;&gt;5</title>\n<path fill=\"none\" stroke=\"#000000\" d=\"M385.1218,-88.9777C384.172,-80.6449 383.1512,-71.6903 382.1876,-63.2364\"/>\n<polygon fill=\"#000000\" stroke=\"#000000\" points=\"385.6592,-62.7877 381.049,-53.2485 378.7042,-63.5806 385.6592,-62.7877\"/>\n</g>\n<!-- 6 -->\n<g id=\"node7\" class=\"node\">\n<title>6</title>\n<path fill=\"#e58139\" stroke=\"#000000\" d=\"M576,-53C576,-53 472,-53 472,-53 466,-53 460,-47 460,-41 460,-41 460,-12 460,-12 460,-6 466,0 472,0 472,0 576,0 576,0 582,0 588,-6 588,-12 588,-12 588,-41 588,-41 588,-47 582,-53 576,-53\"/>\n<text text-anchor=\"middle\" x=\"524\" y=\"-37.8\" font-family=\"Helvetica,sans-Serif\" font-size=\"14.00\" fill=\"#000000\">mse = 0.049</text>\n<text text-anchor=\"middle\" x=\"524\" y=\"-22.8\" font-family=\"Helvetica,sans-Serif\" font-size=\"14.00\" fill=\"#000000\">samples = 11010</text>\n<text text-anchor=\"middle\" x=\"524\" y=\"-7.8\" font-family=\"Helvetica,sans-Serif\" font-size=\"14.00\" fill=\"#000000\">value = 0.051</text>\n</g>\n<!-- 4&#45;&gt;6 -->\n<g id=\"edge6\" class=\"edge\">\n<title>4&#45;&gt;6</title>\n<path fill=\"none\" stroke=\"#000000\" d=\"M436.5959,-88.9777C450.1748,-79.2713 464.9339,-68.7213 478.3912,-59.1018\"/>\n<polygon fill=\"#000000\" stroke=\"#000000\" points=\"480.4799,-61.9111 486.5798,-53.2485 476.4092,-56.2164 480.4799,-61.9111\"/>\n</g>\n</g>\n</svg>\n"
          },
          "metadata": {
            "tags": []
          },
          "execution_count": 30
        }
      ]
    },
    {
      "cell_type": "code",
      "metadata": {
        "id": "sjkqCkuZwLjF",
        "colab_type": "code",
        "outputId": "f4326d93-1c06-4875-f2d9-47617611db80",
        "colab": {
          "base_uri": "https://localhost:8080/",
          "height": 52
        }
      },
      "source": [
        "def MSE_lk(features):\n",
        "  model_rf_link=RandomForestRegressor(max_depth=2,n_estimators=100,bootstrap=False,max_features=features)\n",
        "  model_rf_link.fit(T_train[Features_lk], T_train['Link'])\n",
        "  prediction = np.exp(model_rf_link.predict(T_valid[Features_lk]))\n",
        "  MSE = (np.mean((prediction-T_valid['Link'].values)**2))**0.5\n",
        "  return MSE\n",
        "\n",
        "i_array=np.arange(len(Features_lk))\n",
        "MSE_array=np.array([MSE_lk(i+1) for i in i_array])\n",
        "print('best features:', i_array[np.argmin(MSE_array)]+1, '\\nbest MSE:', np.min(MSE_array))"
      ],
      "execution_count": 0,
      "outputs": [
        {
          "output_type": "stream",
          "text": [
            "best features: 18 \n",
            "best MSE: 1.010629988928023\n"
          ],
          "name": "stdout"
        }
      ]
    },
    {
      "cell_type": "markdown",
      "metadata": {
        "id": "DCREI6WHdFHC",
        "colab_type": "text"
      },
      "source": [
        "## **KNN**\n"
      ]
    },
    {
      "cell_type": "markdown",
      "metadata": {
        "id": "1GxBM8M8rma0",
        "colab_type": "text"
      },
      "source": [
        "### US\n",
        "\n"
      ]
    },
    {
      "cell_type": "code",
      "metadata": {
        "id": "ss0e40vD2Co6",
        "colab_type": "code",
        "outputId": "fc5facf2-cb7d-4c66-c61d-b35228f95677",
        "colab": {
          "base_uri": "https://localhost:8080/",
          "height": 104
        }
      },
      "source": [
        "#filter1 = (data[\"Open\"] == 1) & (data[\"Link\"]==1)\n",
        "#index1 = data[filter1]\n",
        "data_feature=pd.concat([data,pd.get_dummies(data[\"email_text\"]),pd.get_dummies(data[\"email_version\"]),\n",
        "                  pd.get_dummies(data[\"hour_time\"]),pd.get_dummies(data[\"weekday\"]),pd.get_dummies(data[\"user_country\"])],\n",
        "                  axis=1)\n",
        "data_feature = data_feature.drop(columns=['email_text', 'email_version', 'hour_time', 'weekday','user_country','hour'])\n",
        "data_feature.columns"
      ],
      "execution_count": 0,
      "outputs": [
        {
          "output_type": "execute_result",
          "data": {
            "text/plain": [
              "Index(['email_id', 'user_past_purchases', 'Open', 'Link', 'long_email',\n",
              "       'short_email', 'generic', 'personalized', 'night', 'morning',\n",
              "       'afternoon', 'evening', 'Friday', 'Monday', 'Saturday', 'Sunday',\n",
              "       'Thursday', 'Tuesday', 'Wednesday', 'ES', 'FR', 'UK', 'US'],\n",
              "      dtype='object')"
            ]
          },
          "metadata": {
            "tags": []
          },
          "execution_count": 32
        }
      ]
    },
    {
      "cell_type": "code",
      "metadata": {
        "id": "o3IeiwBAT-JF",
        "colab_type": "code",
        "colab": {}
      },
      "source": [
        "Features=['user_past_purchases','long_email','short_email', 'generic', \n",
        "          'personalized', 'night', 'morning', 'afternoon', 'evening',   \n",
        "          'Friday','Monday', 'Saturday', 'Sunday', 'Thursday',\n",
        "          'Tuesday',  'Wednesday']"
      ],
      "execution_count": 0,
      "outputs": []
    },
    {
      "cell_type": "code",
      "metadata": {
        "id": "YyZwgLbpsCCe",
        "colab_type": "code",
        "outputId": "d6d7dff1-2f50-4e4e-b951-04bbf3b47a11",
        "colab": {
          "base_uri": "https://localhost:8080/",
          "height": 86
        }
      },
      "source": [
        "# US/UK section \n",
        "filter2 = data_feature['US'] == 1\n",
        "filter3 = data_feature['UK'] == 1\n",
        "data_feature_us = data_feature[filter2].drop(columns=['ES', 'FR','UK','US'])\n",
        "data_feature_us = data_feature_us.reset_index(drop=True)\n",
        "data_feature_uk = data_feature[filter3].drop(columns=['ES', 'FR','UK','US'])\n",
        "data_feature_uk = data_feature_uk.reset_index(drop=True)\n",
        "\n",
        "filter1 = (data_feature_us[\"Open\"] == 1) & (data_feature_us[\"Link\"]==1)\n",
        "filter2 = (data_feature_uk[\"Open\"] == 1) & (data_feature_uk[\"Link\"]==1)\n",
        "index1_us = data_feature_us[filter1]\n",
        "index1_uk = data_feature_uk[filter2]\n",
        "\n",
        "print(\"US Total:\",data_feature_us.shape[0])\n",
        "print(\"UK Total:\",data_feature_uk.shape[0])\n",
        "print(\"US click and open:\",index1_us.shape[0])\n",
        "print(\"UK click and open:\",index1_uk.shape[0])"
      ],
      "execution_count": 0,
      "outputs": [
        {
          "output_type": "stream",
          "text": [
            "US Total: 60069\n",
            "UK Total: 19928\n",
            "US click and open: 1434\n",
            "UK click and open: 481\n"
          ],
          "name": "stdout"
        }
      ]
    },
    {
      "cell_type": "code",
      "metadata": {
        "id": "di4e5GorcaqA",
        "colab_type": "code",
        "colab": {}
      },
      "source": [
        "from sklearn.preprocessing import StandardScaler\n",
        "model=StandardScaler()\n",
        "model.fit(data_feature_us[Features])\n",
        "data_feature_us_s=model.transform(data_feature_us[Features])\n",
        "\n",
        "from sklearn.neighbors import NearestNeighbors\n",
        "model=NearestNeighbors(n_neighbors=5,radius=np.inf)\n",
        "model.fit(data_feature_us_s)\n",
        "\n",
        "distances,indices=model.radius_neighbors(data_feature_us_s[index1_us.index,:],radius = np.inf)\n",
        "distance=np.sum(distances)\n",
        "indices_reordered=np.argsort(distance)\n"
      ],
      "execution_count": 0,
      "outputs": []
    },
    {
      "cell_type": "code",
      "metadata": {
        "id": "ax2vBesCd33E",
        "colab_type": "code",
        "colab": {}
      },
      "source": [
        "# Customers to pay attention to for US section\n",
        "target_us = data_feature_us.iloc[indices_reordered[0:6000],:]\n"
      ],
      "execution_count": 0,
      "outputs": []
    },
    {
      "cell_type": "markdown",
      "metadata": {
        "id": "6QK5scY4rvYI",
        "colab_type": "text"
      },
      "source": [
        "### UK"
      ]
    },
    {
      "cell_type": "code",
      "metadata": {
        "id": "UXPG457oryUL",
        "colab_type": "code",
        "colab": {}
      },
      "source": [
        "from sklearn.preprocessing import StandardScaler\n",
        "model=StandardScaler()\n",
        "model.fit(data_feature_uk[Features])\n",
        "data_feature_uk_s=model.transform(data_feature_uk[Features])\n",
        "\n",
        "from sklearn.neighbors import NearestNeighbors\n",
        "model=NearestNeighbors(n_neighbors=5,radius=np.inf)\n",
        "model.fit(data_feature_uk_s)\n",
        "\n",
        "distances,indices=model.radius_neighbors(data_feature_uk_s[index1_uk.index,:],radius = np.inf)\n",
        "distance=np.sum(distances)\n",
        "indices_reordered=np.argsort(distance)"
      ],
      "execution_count": 0,
      "outputs": []
    },
    {
      "cell_type": "code",
      "metadata": {
        "id": "gdnGnV5HrybP",
        "colab_type": "code",
        "outputId": "0104a018-2b92-4982-9006-ea16807c5725",
        "colab": {
          "base_uri": "https://localhost:8080/",
          "height": 407
        }
      },
      "source": [
        "# Customers to pay attention to for US section\n",
        "data_feature_uk.iloc[indices_reordered[0:2000],0:1]"
      ],
      "execution_count": 0,
      "outputs": [
        {
          "output_type": "execute_result",
          "data": {
            "text/html": [
              "<div>\n",
              "<style scoped>\n",
              "    .dataframe tbody tr th:only-of-type {\n",
              "        vertical-align: middle;\n",
              "    }\n",
              "\n",
              "    .dataframe tbody tr th {\n",
              "        vertical-align: top;\n",
              "    }\n",
              "\n",
              "    .dataframe thead th {\n",
              "        text-align: right;\n",
              "    }\n",
              "</style>\n",
              "<table border=\"1\" class=\"dataframe\">\n",
              "  <thead>\n",
              "    <tr style=\"text-align: right;\">\n",
              "      <th></th>\n",
              "      <th>email_id</th>\n",
              "    </tr>\n",
              "  </thead>\n",
              "  <tbody>\n",
              "    <tr>\n",
              "      <th>13557</th>\n",
              "      <td>77982</td>\n",
              "    </tr>\n",
              "    <tr>\n",
              "      <th>13586</th>\n",
              "      <td>641071</td>\n",
              "    </tr>\n",
              "    <tr>\n",
              "      <th>13575</th>\n",
              "      <td>228087</td>\n",
              "    </tr>\n",
              "    <tr>\n",
              "      <th>13561</th>\n",
              "      <td>888275</td>\n",
              "    </tr>\n",
              "    <tr>\n",
              "      <th>17981</th>\n",
              "      <td>809513</td>\n",
              "    </tr>\n",
              "    <tr>\n",
              "      <th>...</th>\n",
              "      <td>...</td>\n",
              "    </tr>\n",
              "    <tr>\n",
              "      <th>12627</th>\n",
              "      <td>625848</td>\n",
              "    </tr>\n",
              "    <tr>\n",
              "      <th>18778</th>\n",
              "      <td>757866</td>\n",
              "    </tr>\n",
              "    <tr>\n",
              "      <th>15279</th>\n",
              "      <td>834283</td>\n",
              "    </tr>\n",
              "    <tr>\n",
              "      <th>12694</th>\n",
              "      <td>655963</td>\n",
              "    </tr>\n",
              "    <tr>\n",
              "      <th>12858</th>\n",
              "      <td>63449</td>\n",
              "    </tr>\n",
              "  </tbody>\n",
              "</table>\n",
              "<p>2000 rows × 1 columns</p>\n",
              "</div>"
            ],
            "text/plain": [
              "       email_id\n",
              "13557     77982\n",
              "13586    641071\n",
              "13575    228087\n",
              "13561    888275\n",
              "17981    809513\n",
              "...         ...\n",
              "12627    625848\n",
              "18778    757866\n",
              "15279    834283\n",
              "12694    655963\n",
              "12858     63449\n",
              "\n",
              "[2000 rows x 1 columns]"
            ]
          },
          "metadata": {
            "tags": []
          },
          "execution_count": 38
        }
      ]
    },
    {
      "cell_type": "markdown",
      "metadata": {
        "id": "qouG2DcC2gD0",
        "colab_type": "text"
      },
      "source": [
        "## **A/B Testing** "
      ]
    },
    {
      "cell_type": "markdown",
      "metadata": {
        "id": "4DAIKM8Me8aG",
        "colab_type": "text"
      },
      "source": [
        "### A/B testing: Email Text Length "
      ]
    },
    {
      "cell_type": "code",
      "metadata": {
        "id": "ktK6AHi_tXg1",
        "colab_type": "code",
        "outputId": "73b30b5c-5e37-4589-81b4-80ceee87db42",
        "colab": {
          "base_uri": "https://localhost:8080/",
          "height": 173
        }
      },
      "source": [
        "print('Number of clicks - Control:',np.sum(data_s[data_s[\"email_text\"]==\"long_email\"]['Link']))\n",
        "print('Number of clicks - Experiment:',np.sum(data_s[data_s[\"email_text\"]==\"short_email\"]['Link']))\n",
        "# Open rate and click rate\n",
        "data_s.groupby('email_text').mean()[[\"Open\",\"Link\"]]"
      ],
      "execution_count": 0,
      "outputs": [
        {
          "output_type": "stream",
          "text": [
            "Number of clicks - Control: 904.0\n",
            "Number of clicks - Experiment: 1165.0\n"
          ],
          "name": "stdout"
        },
        {
          "output_type": "execute_result",
          "data": {
            "text/html": [
              "<div>\n",
              "<style scoped>\n",
              "    .dataframe tbody tr th:only-of-type {\n",
              "        vertical-align: middle;\n",
              "    }\n",
              "\n",
              "    .dataframe tbody tr th {\n",
              "        vertical-align: top;\n",
              "    }\n",
              "\n",
              "    .dataframe thead th {\n",
              "        text-align: right;\n",
              "    }\n",
              "</style>\n",
              "<table border=\"1\" class=\"dataframe\">\n",
              "  <thead>\n",
              "    <tr style=\"text-align: right;\">\n",
              "      <th></th>\n",
              "      <th>Open</th>\n",
              "      <th>Link</th>\n",
              "    </tr>\n",
              "    <tr>\n",
              "      <th>email_text</th>\n",
              "      <th></th>\n",
              "      <th></th>\n",
              "    </tr>\n",
              "  </thead>\n",
              "  <tbody>\n",
              "    <tr>\n",
              "      <th>long_email</th>\n",
              "      <td>0.091228</td>\n",
              "      <td>0.017991</td>\n",
              "    </tr>\n",
              "    <tr>\n",
              "      <th>short_email</th>\n",
              "      <td>0.115911</td>\n",
              "      <td>0.023440</td>\n",
              "    </tr>\n",
              "  </tbody>\n",
              "</table>\n",
              "</div>"
            ],
            "text/plain": [
              "                 Open      Link\n",
              "email_text                     \n",
              "long_email   0.091228  0.017991\n",
              "short_email  0.115911  0.023440"
            ]
          },
          "metadata": {
            "tags": []
          },
          "execution_count": 39
        }
      ]
    },
    {
      "cell_type": "markdown",
      "metadata": {
        "id": "1qnr1ZSARo7a",
        "colab_type": "text"
      },
      "source": [
        "### Perform an A/B testing based on logitistic regression. \n",
        "\n",
        "A summary of click rate by different email text versions:\n",
        "\n",
        "|Variant|Email Text Version|Users|Number of Clicks|Avergage Click Rate|\n",
        "|---|---|---|---|---|\n",
        "|Control|Long|50248|904|0.017991|\n",
        "|Experiment|Short|49702|1165|0.023440|\n",
        "\n"
      ]
    },
    {
      "cell_type": "code",
      "metadata": {
        "id": "E90pr5UuAvgp",
        "colab_type": "code",
        "outputId": "7e3b9bbd-a301-4615-c7ab-6660aa7e9724",
        "colab": {
          "base_uri": "https://localhost:8080/",
          "height": 363
        }
      },
      "source": [
        "from statsmodels.formula.api import logit\n",
        "print(logit(\"Link~email_text\",data=T_train).fit().summary())\n",
        "print('Increase in click rate:',\t0.023440-0.017991)\n",
        "print('Percentage increase in click rate:',(0.023440-0.017991)/0.017991)"
      ],
      "execution_count": 0,
      "outputs": [
        {
          "output_type": "stream",
          "text": [
            "Optimization terminated successfully.\n",
            "         Current function value: 0.100290\n",
            "         Iterations 8\n",
            "                           Logit Regression Results                           \n",
            "==============================================================================\n",
            "Dep. Variable:                   Link   No. Observations:                79960\n",
            "Model:                          Logit   Df Residuals:                    79958\n",
            "Method:                           MLE   Df Model:                            1\n",
            "Date:                Sun, 15 Dec 2019   Pseudo R-squ.:                0.002582\n",
            "Time:                        16:37:27   Log-Likelihood:                -8019.2\n",
            "converged:                       True   LL-Null:                       -8040.0\n",
            "Covariance Type:            nonrobust   LLR p-value:                 1.167e-10\n",
            "=============================================================================================\n",
            "                                coef    std err          z      P>|z|      [0.025      0.975]\n",
            "---------------------------------------------------------------------------------------------\n",
            "Intercept                    -4.0321      0.038   -105.745      0.000      -4.107      -3.957\n",
            "email_text[T.short_email]     0.3223      0.050      6.406      0.000       0.224       0.421\n",
            "=============================================================================================\n",
            "Increase in click rate: 0.005448999999999999\n",
            "Percentage increase in click rate: 0.302873659051748\n"
          ],
          "name": "stdout"
        }
      ]
    },
    {
      "cell_type": "markdown",
      "metadata": {
        "id": "qw00ceuzfyu5",
        "colab_type": "text"
      },
      "source": [
        "Statistical power and significance for A/B testing:\n",
        "\n",
        "- Because the p-value is less than 0.05 and also the coefficient is positive, the short email is effective in increasing the click rate.\n",
        "\n",
        "|Variant|Click Rate|\n",
        "|---|---|\n",
        "|Absolute Increase|0.544%|\n",
        "|Percentage Increase|30.28%|"
      ]
    },
    {
      "cell_type": "code",
      "metadata": {
        "id": "2lBdojfvBJjN",
        "colab_type": "code",
        "outputId": "04a5a8b0-6ac1-42f8-c7a9-717884c4578e",
        "colab": {
          "base_uri": "https://localhost:8080/",
          "height": 35
        }
      },
      "source": [
        "#regret - best version=short email\n",
        "Total = data_s.shape[0]\n",
        "regret_AB = Total*0.023440-np.sum(data_s[\"Link\"])\n",
        "print(regret_AB,regret_AB/Total)"
      ],
      "execution_count": 0,
      "outputs": [
        {
          "output_type": "stream",
          "text": [
            "273.828 0.002739649824912456\n"
          ],
          "name": "stdout"
        }
      ]
    },
    {
      "cell_type": "markdown",
      "metadata": {
        "id": "oWy9K9zjTWA2",
        "colab_type": "text"
      },
      "source": [
        "- Regret comparing to best version is approximately 273 number of clicks, meaning we have 0.27% less in reward due to executing the learning algorithm instead of behaving optimally, short version, from the very beginning. "
      ]
    },
    {
      "cell_type": "markdown",
      "metadata": {
        "id": "1fy-t6a07XTl",
        "colab_type": "text"
      },
      "source": [
        "###Multi-Armed Bandits\n",
        "\n",
        "Implement the multi-armed bandit algorithm using 100 waves.\n",
        "\n",
        "Wave 1: 1000 people,  𝑃𝑐𝑜𝑛𝑡𝑟𝑜𝑙=𝑃𝑒𝑥𝑝𝑒𝑟𝑖𝑚𝑒𝑛𝑡=0.5 \n",
        "\n",
        "Wave 2-100: 1000 people in each wave. If previous waves suggest that the experiment group is better, use  𝑃𝑒𝑥𝑝𝑒𝑟𝑖𝑚𝑒𝑛𝑡=0.7 . Otherwise, use  𝑃𝑒𝑥𝑝𝑒𝑟𝑖𝑚𝑒𝑛𝑡=0.3 .\n"
      ]
    },
    {
      "cell_type": "code",
      "metadata": {
        "id": "_J4QfBazpq7z",
        "colab_type": "code",
        "outputId": "387b7c55-317a-42cb-805b-6e8518eb21b9",
        "colab": {
          "base_uri": "https://localhost:8080/",
          "height": 35
        }
      },
      "source": [
        "seg1 = data_s[data_s[\"email_text\"]==\"short_email\"] #experiment\n",
        "seg2 = data_s[data_s[\"email_text\"]==\"long_email\"] #control\n",
        "\n",
        "Total=data_s.shape[0]\n",
        "def multiarmed():\n",
        "  N=1000\n",
        "  p1=0.5\n",
        "  N1=np.random.binomial(N,p1)\n",
        "  N2=N-N1\n",
        "  samples1=seg1.sample(N1)\n",
        "  samples2=seg2.sample(N2)\n",
        "  outcome1=samples1[\"Link\"].values\n",
        "  outcome2=samples2[\"Link\"].values\n",
        "  #next waves \n",
        "  for i in range(99):\n",
        "    N=1000\n",
        "    if np.mean(outcome1)>np.mean(outcome2):\n",
        "      p1=0.7\n",
        "    elif np.mean(outcome1)<np.mean(outcome2):\n",
        "      p1=0.3\n",
        "    else:\n",
        "      p1=0.5\n",
        "    N1=np.random.binomial(N,p1)\n",
        "    N2=N-N1\n",
        "    samples1=seg1.sample(N1 )\n",
        "    samples2=seg2.sample(N2)\n",
        "    outcome1=np.append(outcome1,samples1[\"Link\"].values)\n",
        "    outcome2=np.append(outcome2,samples2[\"Link\"].values)\n",
        "  \n",
        "  #compute the return values\n",
        "  if np.mean(outcome1)>np.mean(outcome2):\n",
        "    regret=np.mean(outcome1)*Total-np.sum(outcome1)-np.sum(outcome2)\n",
        "  else:\n",
        "    regret=np.mean(outcome2)*Total-np.sum(outcome1)-np.sum(outcome2)\n",
        "\n",
        "  return regret, np.mean(outcome1),np.mean(outcome2)\n",
        "\n",
        "Returns=[multiarmed() for i in range(50)]\n",
        "Returns=np.array(Returns)\n",
        "regret_MAB, Avg_CR1, Avg_CR2 = np.mean(Returns[:,0]),np.mean(Returns[:,1]),np.mean(Returns[:,2])\n",
        "print(regret_MAB, Avg_CR1, Avg_CR2)"
      ],
      "execution_count": 0,
      "outputs": [
        {
          "output_type": "stream",
          "text": [
            "162.95828258851398 0.023325245448609446 0.01800518363814644\n"
          ],
          "name": "stdout"
        }
      ]
    },
    {
      "cell_type": "code",
      "metadata": {
        "id": "aQL90pKK8oUU",
        "colab_type": "code",
        "outputId": "e3f689fa-b499-433e-c18e-6842af2d81b8",
        "colab": {
          "base_uri": "https://localhost:8080/",
          "height": 35
        }
      },
      "source": [
        "print(regret_MAB/Total)"
      ],
      "execution_count": 0,
      "outputs": [
        {
          "output_type": "stream",
          "text": [
            "0.0016303980248975887\n"
          ],
          "name": "stdout"
        }
      ]
    },
    {
      "cell_type": "markdown",
      "metadata": {
        "id": "f0bVCx3PkMdb",
        "colab_type": "text"
      },
      "source": [
        "- Regret by MAB simulation is approximately 163 number of clicks, meaning we have 0.163% less in reward due to executing the learning algorithm instead of behaving optimally, short version, from the very beginning. However this simulation result shows a better reward than A/B testing."
      ]
    },
    {
      "cell_type": "markdown",
      "metadata": {
        "id": "ui7Y-TMbewAy",
        "colab_type": "text"
      },
      "source": [
        "### A/B testing: Email Version"
      ]
    },
    {
      "cell_type": "code",
      "metadata": {
        "id": "7KD9zv26B6RU",
        "colab_type": "code",
        "outputId": "d2d173f4-9151-4fb2-8989-b895d8c22e3b",
        "colab": {
          "base_uri": "https://localhost:8080/",
          "height": 173
        }
      },
      "source": [
        "#group by email version\n",
        "# Control variant sample size = 50178 users\n",
        "print('Number of clicks - Control:',np.sum(data_s[data_s[\"email_version\"]==\"generic\"]['Link']))\n",
        "# Experiment variant sample size = 49772 users\n",
        "print('Number of clicks - Experiment:',np.sum(data_s[data_s[\"email_version\"]==\"personalized\"]['Link']))\n",
        "\n",
        "data_s.groupby('email_version').mean()[[\"Open\",\"Link\"]]"
      ],
      "execution_count": 0,
      "outputs": [
        {
          "output_type": "stream",
          "text": [
            "Number of clicks - Control: 729.0\n",
            "Number of clicks - Experiment: 1340.0\n"
          ],
          "name": "stdout"
        },
        {
          "output_type": "execute_result",
          "data": {
            "text/html": [
              "<div>\n",
              "<style scoped>\n",
              "    .dataframe tbody tr th:only-of-type {\n",
              "        vertical-align: middle;\n",
              "    }\n",
              "\n",
              "    .dataframe tbody tr th {\n",
              "        vertical-align: top;\n",
              "    }\n",
              "\n",
              "    .dataframe thead th {\n",
              "        text-align: right;\n",
              "    }\n",
              "</style>\n",
              "<table border=\"1\" class=\"dataframe\">\n",
              "  <thead>\n",
              "    <tr style=\"text-align: right;\">\n",
              "      <th></th>\n",
              "      <th>Open</th>\n",
              "      <th>Link</th>\n",
              "    </tr>\n",
              "    <tr>\n",
              "      <th>email_version</th>\n",
              "      <th></th>\n",
              "      <th></th>\n",
              "    </tr>\n",
              "  </thead>\n",
              "  <tbody>\n",
              "    <tr>\n",
              "      <th>generic</th>\n",
              "      <td>0.079397</td>\n",
              "      <td>0.014528</td>\n",
              "    </tr>\n",
              "    <tr>\n",
              "      <th>personalized</th>\n",
              "      <td>0.127803</td>\n",
              "      <td>0.026923</td>\n",
              "    </tr>\n",
              "  </tbody>\n",
              "</table>\n",
              "</div>"
            ],
            "text/plain": [
              "                   Open      Link\n",
              "email_version                    \n",
              "generic        0.079397  0.014528\n",
              "personalized   0.127803  0.026923"
            ]
          },
          "metadata": {
            "tags": []
          },
          "execution_count": 44
        }
      ]
    },
    {
      "cell_type": "markdown",
      "metadata": {
        "id": "g-Nwkb5lmH7j",
        "colab_type": "text"
      },
      "source": [
        "### Perform an A/B testing based on logitistic regression. \n",
        "\n",
        "A summary of click rate by different email versions:\n",
        "\n",
        "|Variant|Email Text Version|Users|Number of Clicks|Avergage Click Rate|\n",
        "|---|---|---|---|---|\n",
        "|Control|Generic|50178|729|0.014528|\n",
        "|Experiment|Personalized|49772|1340|0.026923|"
      ]
    },
    {
      "cell_type": "code",
      "metadata": {
        "id": "GUCrL2hdB8QM",
        "colab_type": "code",
        "outputId": "8ad62196-8f54-4452-e2ef-29396bd28b8f",
        "colab": {
          "base_uri": "https://localhost:8080/",
          "height": 363
        }
      },
      "source": [
        "from statsmodels.formula.api import logit\n",
        "print(logit(\"Link~email_version\",data=T_train).fit().summary())\n",
        "print('Increase in click rate:',0.026923-0.014528)\n",
        "print('Percentage increase in click rate:',(0.026923-0.014528)/0.014528)"
      ],
      "execution_count": 0,
      "outputs": [
        {
          "output_type": "stream",
          "text": [
            "Optimization terminated successfully.\n",
            "         Current function value: 0.099533\n",
            "         Iterations 8\n",
            "                           Logit Regression Results                           \n",
            "==============================================================================\n",
            "Dep. Variable:                   Link   No. Observations:                79960\n",
            "Model:                          Logit   Df Residuals:                    79958\n",
            "Method:                           MLE   Df Model:                            1\n",
            "Date:                Sun, 15 Dec 2019   Pseudo R-squ.:                 0.01011\n",
            "Time:                        16:38:13   Log-Likelihood:                -7958.6\n",
            "converged:                       True   LL-Null:                       -8040.0\n",
            "Covariance Type:            nonrobust   LLR p-value:                 3.003e-37\n",
            "=================================================================================================\n",
            "                                    coef    std err          z      P>|z|      [0.025      0.975]\n",
            "-------------------------------------------------------------------------------------------------\n",
            "Intercept                        -4.2322      0.042   -100.755      0.000      -4.314      -4.150\n",
            "email_version[T.personalized]     0.6493      0.052     12.451      0.000       0.547       0.752\n",
            "=================================================================================================\n",
            "Increase in click rate: 0.012395\n",
            "Percentage increase in click rate: 0.8531800660792952\n"
          ],
          "name": "stdout"
        }
      ]
    },
    {
      "cell_type": "markdown",
      "metadata": {
        "id": "f-XpAvvsmv4T",
        "colab_type": "text"
      },
      "source": [
        "A/B testing:\n",
        "\n",
        "- Because the p-value is less than 0.05 and also the coefficient is positive, the personalized version is effective in increasing the click rate.\n",
        "\n",
        "|Variant|Click Rate|\n",
        "|---|---|\n",
        "|Absolute Increase|1.240%|\n",
        "|Percentage Increase|85.32%|"
      ]
    },
    {
      "cell_type": "code",
      "metadata": {
        "id": "rVXBQzmOCVtE",
        "colab_type": "code",
        "outputId": "40975677-8e17-4722-cc2d-87c4a34c7e64",
        "colab": {
          "base_uri": "https://localhost:8080/",
          "height": 35
        }
      },
      "source": [
        "#regret - best version= personalized email\n",
        "Total = data_s.shape[0]\n",
        "regret_AB = Total*0.026923-np.sum(data_s[\"Link\"])\n",
        "print(regret_AB,regret_AB/Total)"
      ],
      "execution_count": 0,
      "outputs": [
        {
          "output_type": "stream",
          "text": [
            "621.9538499999999 0.0062226498249124546\n"
          ],
          "name": "stdout"
        }
      ]
    },
    {
      "cell_type": "markdown",
      "metadata": {
        "id": "-YWG1mqmml5S",
        "colab_type": "text"
      },
      "source": [
        "- Regret comparing to best version is approximately 622 number of clicks, meaning we have 0.622% less in reward due to executing the learning algorithm instead of behaving optimally, personalized version, from the very beginning. "
      ]
    },
    {
      "cell_type": "markdown",
      "metadata": {
        "id": "sa7j5Ff_FAbD",
        "colab_type": "text"
      },
      "source": [
        "###Multi-Armed Bandits\n",
        "\n",
        "Implement the multi-armed bandit algorithm using 100 waves.\n",
        "\n",
        "Wave 1: 1000 people,  𝑃𝑐𝑜𝑛𝑡𝑟𝑜𝑙=𝑃𝑒𝑥𝑝𝑒𝑟𝑖𝑚𝑒𝑛𝑡=0.5 \n",
        "\n",
        "Wave 2-100: 1000 people in each wave. If previous waves suggest that the experiment group is better, use  𝑃𝑒𝑥𝑝𝑒𝑟𝑖𝑚𝑒𝑛𝑡=0.7 . Otherwise, use  𝑃𝑒𝑥𝑝𝑒𝑟𝑖𝑚𝑒𝑛𝑡=0.3 ."
      ]
    },
    {
      "cell_type": "code",
      "metadata": {
        "id": "tF0QY1F0CxeK",
        "colab_type": "code",
        "outputId": "e63ebb10-97b2-441c-ea9a-215b973e967f",
        "colab": {
          "base_uri": "https://localhost:8080/",
          "height": 35
        }
      },
      "source": [
        "seg1 = data_s[data_s[\"email_version\"]==\"personalized\"] #experiment\n",
        "seg2 = data_s[data_s[\"email_version\"]==\"generic\"] #control\n",
        "\n",
        "Total=data_s.shape[0]\n",
        "def multiarmed():\n",
        "  N=1000\n",
        "  p1=0.5\n",
        "  N1=np.random.binomial(N,p1)\n",
        "  N2=N-N1\n",
        "  samples1=seg1.sample(N1)\n",
        "  samples2=seg2.sample(N2)\n",
        "  outcome1=samples1[\"Link\"].values\n",
        "  outcome2=samples2[\"Link\"].values\n",
        "  #next waves \n",
        "  for i in range(99):\n",
        "    N=1000\n",
        "    if np.mean(outcome1)>np.mean(outcome2):\n",
        "      p1=0.7\n",
        "    elif np.mean(outcome1)<np.mean(outcome2):\n",
        "      p1=0.3\n",
        "    else:\n",
        "      p1=0.5\n",
        "    N1=np.random.binomial(N,p1)\n",
        "    N2=N-N1\n",
        "    samples1=seg1.sample(N1 )\n",
        "    samples2=seg2.sample(N2)\n",
        "    outcome1=np.append(outcome1,samples1[\"Link\"].values)\n",
        "    outcome2=np.append(outcome2,samples2[\"Link\"].values)\n",
        "  \n",
        "  #compute the return values\n",
        "  if np.mean(outcome1)>np.mean(outcome2):\n",
        "    regret=np.mean(outcome1)*Total-np.sum(outcome1)-np.sum(outcome2)\n",
        "  else:\n",
        "    regret=np.mean(outcome2)*Total-np.sum(outcome1)-np.sum(outcome2)\n",
        "\n",
        "  return regret, np.mean(outcome1),np.mean(outcome2)\n",
        "\n",
        "Returns=[multiarmed() for i in range(50)]\n",
        "Returns=np.array(Returns)\n",
        "regret_MAB, Avg_CR1, Avg_CR2 = np.mean(Returns[:,0]),np.mean(Returns[:,1]),np.mean(Returns[:,2])\n",
        "print(regret_MAB, Avg_CR1, Avg_CR2)"
      ],
      "execution_count": 0,
      "outputs": [
        {
          "output_type": "stream",
          "text": [
            "361.155520923258 0.026731520969717436 0.014759053338794726\n"
          ],
          "name": "stdout"
        }
      ]
    },
    {
      "cell_type": "markdown",
      "metadata": {
        "id": "tUQ0LN6tn1pf",
        "colab_type": "text"
      },
      "source": [
        "- Regret by MAB simulation is approximately 361 number of clicks, meaning we have 0.361% less in reward due to executing the learning algorithm instead of behaving optimally,personalized version, from the very beginning. However this simulation result shows a better reward than A/B testing."
      ]
    },
    {
      "cell_type": "code",
      "metadata": {
        "id": "h6BuDDdOdnHE",
        "colab_type": "code",
        "colab": {}
      },
      "source": [
        ""
      ],
      "execution_count": 0,
      "outputs": []
    }
  ]
}